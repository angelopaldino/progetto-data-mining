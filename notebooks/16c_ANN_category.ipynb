{
 "cells": [
  {
   "cell_type": "markdown",
   "id": "376a280a",
   "metadata": {},
   "source": [
    "# VOTING CLASSIFIER misto, utilizzo i modelli migliori che ho ottenuto finora e salvato nella cartella models"
   ]
  },
  {
   "cell_type": "code",
   "execution_count": 9,
   "id": "3b2be9b8",
   "metadata": {},
   "outputs": [
    {
     "name": "stderr",
     "output_type": "stream",
     "text": [
      "c:\\Users\\angel\\OneDrive\\Desktop\\DataMiningProject\\.venv\\lib\\site-packages\\sklearn\\utils\\validation.py:2739: UserWarning: X does not have valid feature names, but BalancedRandomForestClassifier was fitted with feature names\n",
      "  warnings.warn(\n",
      "c:\\Users\\angel\\OneDrive\\Desktop\\DataMiningProject\\.venv\\lib\\site-packages\\sklearn\\utils\\validation.py:2739: UserWarning: X does not have valid feature names, but BalancedRandomForestClassifier was fitted with feature names\n",
      "  warnings.warn(\n"
     ]
    }
   ],
   "source": [
    "import pandas as pd\n",
    "import numpy as np\n",
    "from sklearn.neural_network import MLPClassifier\n",
    "from sklearn.preprocessing import StandardScaler\n",
    "from sklearn.metrics import accuracy_score, precision_score, recall_score, f1_score, confusion_matrix\n",
    "import os\n",
    "import joblib\n",
    "import sys\n",
    "sys.path.append('../Scripts')\n",
    "from utility import evaluate_and_save_model_multiclass\n",
    "\n",
    "X_train = pd.read_csv(\"../data/splitted_category/X_train.csv\")\n",
    "X_test = pd.read_csv(\"../data/splitted_category/X_test.csv\")\n",
    "y_train = pd.read_csv(\"../data/splitted_category/y_train.csv\").values.ravel()\n",
    "y_test = pd.read_csv(\"../data/splitted_category/y_test.csv\").values.ravel()  \n",
    "\n",
    "scaler = StandardScaler()\n",
    "X_train_scaled = scaler.fit_transform(X_train)\n",
    "X_test_scaled = scaler.transform(X_test)\n",
    "\n",
    "\n",
    "bagging = joblib.load(\"../models/bagging_model_category.joblib\")\n",
    "balancedrandomforest = joblib.load(\"../models/balanced_randomforest_category.joblib\")\n",
    "ann = joblib.load(\"../models/ann_category.joblib\")\n",
    "\n",
    "models = [ bagging, balancedrandomforest,ann]\n",
    "\n",
    "probas_train = np.array([model.predict_proba(X_train_scaled) for model in models])\n",
    "avg_probas_train = np.mean(probas_train, axis=0)\n",
    "y_pred_train = np.argmax(avg_probas_train, axis=1)\n",
    "\n",
    "# === Predizioni su TEST\n",
    "probas_test = np.array([model.predict_proba(X_test_scaled) for model in models])\n",
    "avg_probas_test = np.mean(probas_test, axis=0)\n",
    "y_pred_test = np.argmax(avg_probas_test, axis=1)\n",
    "\n",
    "evaluate_and_save_model_multiclass(\n",
    "    ann,\n",
    "    \"Modelli  bagging ann e balanced randomforest\",\n",
    "    y_train,\n",
    "    y_pred_train,\n",
    "    y_test,\n",
    "    y_pred_test,\n",
    "    \"../results/classification_category/voting\",\n",
    "    \"../models/models_category.joblib\"\n",
    ")\n"
   ]
  }
 ],
 "metadata": {
  "kernelspec": {
   "display_name": ".venv",
   "language": "python",
   "name": "python3"
  },
  "language_info": {
   "codemirror_mode": {
    "name": "ipython",
    "version": 3
   },
   "file_extension": ".py",
   "mimetype": "text/x-python",
   "name": "python",
   "nbconvert_exporter": "python",
   "pygments_lexer": "ipython3",
   "version": "3.10.0"
  }
 },
 "nbformat": 4,
 "nbformat_minor": 5
}
