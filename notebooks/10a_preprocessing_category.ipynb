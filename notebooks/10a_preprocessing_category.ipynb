{
 "cells": [
  {
   "cell_type": "markdown",
   "id": "1fa25b12",
   "metadata": {},
   "source": [
    "# Classificazione multiclasse Pre processing\n",
    "In questa fase è sato preparato il dataset originale per la classificazione multiclasse sulla variabile category senza alcuna aggregazione delle classi. Operazioni eseguite:\n",
    "- Caricamento e pulizia iniziale\n",
    "- Trasformazione delle variabili numeriche\n",
    "- Gestione delle variabili categoriche\n",
    "- Creazione dataset finale e salvataggio\n",
    "\n",
    "Dopo il preprocessing sono stati applicati diversi modelli di classificazione per valutare le performance sulla variabile category composta da 18 classi. L'obiettivo è di verificare quanto bene i modelli riuscissero a classificare le 18 classi originali prima di effettuare l'aggregazione(che si trova in 10_preprocessing_category.ipynb), infine le performance tra i modelli addestrati sul dataset originale e su quello con aggregazioni saranno messe a confronto, al fine di valutare se con l'aggregazione c'è stato un miglioramento. Modelli utilizzati:\n",
    "- Decision tree sia con criterio gini che entropy\n",
    "- Random forest\n",
    "- SVM\n",
    "- Naive bayes\n",
    "- knn\n",
    "- ann"
   ]
  },
  {
   "cell_type": "code",
   "execution_count": 3,
   "id": "4e2169e9",
   "metadata": {},
   "outputs": [
    {
     "name": "stdout",
     "output_type": "stream",
     "text": [
      "\n",
      " Dataset pronto per la classificazione su 'category'. Salvato in '../data/splitted_senza_aggregazione/'\n"
     ]
    }
   ],
   "source": [
    "import pandas as pd\n",
    "import numpy as np\n",
    "import matplotlib.pyplot as plt\n",
    "import joblib\n",
    "import os\n",
    "import sys\n",
    "from sklearn.model_selection import train_test_split\n",
    "from sklearn.preprocessing import LabelEncoder\n",
    "sys.path.append('../Scripts')\n",
    "from utility import evaluate_and_save_model_multiclass\n",
    "\n",
    "INPUT_PATH = \"../data/raw/Billionaires Statistics Dataset.csv\"\n",
    "OUTPUT_DIR = \"../data/splitted_senza_aggregazione/\"\n",
    "os.makedirs(OUTPUT_DIR, exist_ok=True)\n",
    "\n",
    "df = pd.read_csv(INPUT_PATH)\n",
    "df = df.drop_duplicates()\n",
    "\n",
    "df['gdp_country'] = df['gdp_country'].astype(str).str.replace(\"$\", \"\", regex=False)\n",
    "df['gdp_country'] = df['gdp_country'].str.replace(\",\", \"\").str.strip()\n",
    "df['gdp_country'] = pd.to_numeric(df['gdp_country'], errors='coerce')\n",
    "\n",
    "\n",
    "\n",
    "df[\"log_finalWorth\"] = np.log1p(df[\"finalWorth\"])\n",
    "df[\"log_gdp_country\"] = np.log1p(df[\"gdp_country\"])\n",
    "df[\"selfMade_encoded\"] = df[\"selfMade\"].map({True: 1, False: 0})\n",
    "\n",
    "\n",
    "\n",
    "\n",
    "numerical_cols = ['selfMade_encoded', 'log_finalWorth', 'age', 'log_gdp_country', 'cpi_country',\n",
    "                  'life_expectancy_country', 'gross_tertiary_education_enrollment',\n",
    "                  'total_tax_rate_country', 'population_country']\n",
    "\n",
    "categorical_cols = ['country', 'source', 'gender', 'status']\n",
    "\n",
    "\n",
    "for col in numerical_cols:\n",
    "    median_val = df[col].median()\n",
    "    df[col] = df[col].fillna(median_val)\n",
    "\n",
    "\n",
    "\n",
    "categorical_encoded = pd.get_dummies(df[categorical_cols], drop_first=True)\n",
    "\n",
    "target = 'category'\n",
    "y = df[target]\n",
    "le = LabelEncoder()\n",
    "y_encoded = le.fit_transform(y)\n",
    "\n",
    "joblib.dump(le, \"../models/label_encoder_category_original.joblib\")\n",
    "\n",
    "\n",
    "X = pd.concat([df[numerical_cols], categorical_encoded], axis=1)\n",
    "\n",
    "mask = y.notna()\n",
    "X = X[mask]\n",
    "y_encoded = y_encoded[mask]\n",
    "\n",
    "X_train, X_test, y_train, y_test = train_test_split(\n",
    "    X, y_encoded, test_size=0.3, random_state=42, stratify=y_encoded\n",
    ")\n",
    "\n",
    "X_train.to_csv(os.path.join(OUTPUT_DIR, \"X_train.csv\"), index=False)\n",
    "X_test.to_csv(os.path.join(OUTPUT_DIR, \"X_test.csv\"), index=False)\n",
    "pd.Series(y_train, name=\"category_encoded\").to_csv(os.path.join(OUTPUT_DIR, \"y_train.csv\"), index=False)\n",
    "pd.Series(y_test, name=\"category_encoded\").to_csv(os.path.join(OUTPUT_DIR, \"y_test.csv\"), index=False)\n",
    "\n",
    "print(\"\\n Dataset pronto per la classificazione su 'category'. Salvato in '../data/splitted_senza_aggregazione/'\")"
   ]
  },
  {
   "cell_type": "code",
   "execution_count": 4,
   "id": "ebd85961",
   "metadata": {},
   "outputs": [],
   "source": [
    "X_train = pd.read_csv(\"../data/splitted_senza_aggregazione/X_train.csv\")\n",
    "X_test = pd.read_csv(\"../data/splitted_senza_aggregazione/X_test.csv\")\n",
    "y_train = pd.read_csv(\"../data/splitted_senza_aggregazione/y_train.csv\").values.ravel()\n",
    "y_test = pd.read_csv(\"../data/splitted_senza_aggregazione/y_test.csv\").values.ravel()"
   ]
  },
  {
   "cell_type": "markdown",
   "id": "a196b10f",
   "metadata": {},
   "source": [
    "# Decision tree con criterio gini\n",
    "viene utilizzato class_weight='balanced' per gestire le classi sbilanciate"
   ]
  },
  {
   "cell_type": "code",
   "execution_count": 6,
   "id": "733e339b",
   "metadata": {},
   "outputs": [],
   "source": [
    "from sklearn.tree import DecisionTreeClassifier\n",
    "import sys\n",
    "sys.path.append('../Scripts')\n",
    "from utility import evaluate_and_save_model_multiclass\n",
    "\n",
    "\n",
    "model = DecisionTreeClassifier(class_weight='balanced',\trandom_state=42 )\n",
    "\n",
    "model.fit(X_train, y_train)\n",
    "\n",
    "y_train_pred = model.predict(X_train)\n",
    "y_test_pred = model.predict(X_test)\n",
    "\n",
    "evaluate_and_save_model_multiclass(\n",
    "    model,\n",
    "    \"decision tree category default gini\",\n",
    "    y_train,\n",
    "    y_train_pred,\n",
    "    y_test,\n",
    "    y_test_pred,\n",
    "    \"../results/classification_category/senza aggregazione/decision tree\",\n",
    "    \"../models/decision_tree_category_original\"\n",
    ")"
   ]
  },
  {
   "cell_type": "markdown",
   "id": "c449e192",
   "metadata": {},
   "source": [
    "# Decision tree con criterio entropy"
   ]
  },
  {
   "cell_type": "code",
   "execution_count": 7,
   "id": "8b01d91a",
   "metadata": {},
   "outputs": [],
   "source": [
    "model = DecisionTreeClassifier(class_weight='balanced', criterion='entropy', random_state=42 )\n",
    "\n",
    "model.fit(X_train, y_train)\n",
    "\n",
    "evaluate_and_save_model_multiclass(\n",
    "    model,\n",
    "    \"decision tree category default entropy\",\n",
    "    y_train,\n",
    "    y_train_pred,\n",
    "    y_test,\n",
    "    y_test_pred,\n",
    "    \"../results/classification_category/senza aggregazione/decision tree\",\n",
    "    \"../models/decision_tree_category_original_entropy\"\n",
    ")"
   ]
  },
  {
   "cell_type": "markdown",
   "id": "e8a63766",
   "metadata": {},
   "source": [
    "# Random forest"
   ]
  },
  {
   "cell_type": "code",
   "execution_count": 8,
   "id": "b884f602",
   "metadata": {},
   "outputs": [],
   "source": [
    "from sklearn.ensemble import RandomForestClassifier\n",
    "\n",
    "model = RandomForestClassifier(\n",
    "    class_weight='balanced',\n",
    "    n_estimators=100,\n",
    "    random_state=42\n",
    ")\n",
    "model.fit(X_train, y_train)\n",
    "\n",
    "y_train_pred = model.predict(X_train)\n",
    "y_test_pred = model.predict(X_test)\n",
    "\n",
    "\n",
    "evaluate_and_save_model_multiclass(\n",
    "    model,\n",
    "    \"random forest\",\n",
    "    y_train,\n",
    "    y_train_pred,\n",
    "    y_test,\n",
    "    y_test_pred,\n",
    "    \"../results/classification_category/senza aggregazione/random forest\",\n",
    "    \"../models/randomforest_original\"\n",
    ")"
   ]
  },
  {
   "cell_type": "markdown",
   "id": "2adf045e",
   "metadata": {},
   "source": [
    "# KNN"
   ]
  },
  {
   "cell_type": "code",
   "execution_count": 10,
   "id": "ff6aa5dd",
   "metadata": {},
   "outputs": [],
   "source": [
    "from sklearn.preprocessing import StandardScaler\n",
    "from sklearn.neighbors import KNeighborsClassifier\n",
    "\n",
    "\n",
    "scaler = StandardScaler()\n",
    "X_train_scaled = scaler.fit_transform(X_train)\n",
    "X_test_scaled = scaler.transform(X_test)\n",
    "\n",
    "k=5\n",
    "knn = KNeighborsClassifier(n_neighbors=k)  \n",
    "knn.fit(X_train_scaled, y_train)\n",
    "\n",
    "y_pred_train = knn.predict(X_train_scaled)\n",
    "y_pred_test = knn.predict(X_test_scaled)\n",
    "\n",
    "\n",
    "evaluate_and_save_model_multiclass(\n",
    "    knn,\n",
    "    \"knn\",\n",
    "    y_train,\n",
    "    y_pred_train,\n",
    "    y_test,\n",
    "    y_pred_test,\n",
    "    \"../results/classification_category/senza aggregazione/knn\",\n",
    "    \"../models/knn_original\",\n",
    "    {\"k\":5}\n",
    ")"
   ]
  },
  {
   "cell_type": "markdown",
   "id": "5641c5b9",
   "metadata": {},
   "source": [
    "# Naive bayes"
   ]
  },
  {
   "cell_type": "code",
   "execution_count": 11,
   "id": "ef150b01",
   "metadata": {},
   "outputs": [],
   "source": [
    "from sklearn.naive_bayes import GaussianNB\n",
    "\n",
    "\n",
    "scaler = StandardScaler()\n",
    "X_train_scaled = scaler.fit_transform(X_train)\n",
    "X_test_scaled = scaler.transform(X_test)\n",
    "\n",
    "\n",
    "model = GaussianNB()\n",
    "model.fit(X_train_scaled, y_train)\n",
    "\n",
    "y_pred_train = model.predict(X_train_scaled)\n",
    "y_pred_test = model.predict(X_test_scaled)\n",
    "\n",
    "evaluate_and_save_model_multiclass(\n",
    "    model,\n",
    "    \"naive bayes\",\n",
    "    y_train,\n",
    "    y_pred_train,\n",
    "    y_test,\n",
    "    y_pred_test,\n",
    "    \"../results/classification_category/senza aggregazione/naibayes\",\n",
    "    \"../models/bayes_original\"\n",
    ")\n"
   ]
  },
  {
   "cell_type": "markdown",
   "id": "8755e95b",
   "metadata": {},
   "source": [
    "# ANN"
   ]
  },
  {
   "cell_type": "code",
   "execution_count": 12,
   "id": "5322da53",
   "metadata": {},
   "outputs": [],
   "source": [
    "from sklearn.neural_network import MLPClassifier\n",
    "\n",
    "\n",
    "scaler = StandardScaler()\n",
    "X_train_scaled = scaler.fit_transform(X_train)\n",
    "X_test_scaled = scaler.transform(X_test)\n",
    "\n",
    "\n",
    "mlp = MLPClassifier(\n",
    "    hidden_layer_sizes=(100, 50),         \n",
    "    activation='relu',                    \n",
    "    solver='adam',                        \n",
    "    alpha=0.05,                         \n",
    "    learning_rate='adaptive',            \n",
    "    max_iter=300,                          \n",
    "    early_stopping=True,                  \n",
    "    validation_fraction=0.2,              \n",
    "    random_state=42\n",
    ")\n",
    "\n",
    "mlp.fit(X_train_scaled, y_train)\n",
    "\n",
    "y_pred_train = mlp.predict(X_train_scaled)\n",
    "y_pred_test = mlp.predict(X_test_scaled)\n",
    "\n",
    "evaluate_and_save_model_multiclass(\n",
    "    mlp,\n",
    "    \"ANN\",\n",
    "    y_train,\n",
    "    y_pred_train,\n",
    "    y_test,\n",
    "    y_pred_test,\n",
    "    \"../results/classification_category/senza aggregazione/ann\",\n",
    "    \"../models/ann_original\"\n",
    ")   "
   ]
  },
  {
   "cell_type": "markdown",
   "id": "c448ecec",
   "metadata": {},
   "source": [
    "# SVM"
   ]
  },
  {
   "cell_type": "code",
   "execution_count": null,
   "id": "dad8c6f3",
   "metadata": {},
   "outputs": [],
   "source": [
    "from sklearn.svm import SVC\n",
    "\n",
    "\n",
    "scaler = StandardScaler()\n",
    "X_train_scaled = scaler.fit_transform(X_train)\n",
    "X_test_scaled = scaler.transform(X_test)\n",
    "\n",
    "\n",
    "model = SVC(kernel='rbf', C=1.0, gamma='scale',class_weight='balanced', random_state=42)\n",
    "model.fit(X_train_scaled, y_train)\n",
    "\n",
    "y_pred_train = model.predict(X_train_scaled)\n",
    "y_pred_test = model.predict(X_test_scaled)\n",
    "\n",
    "evaluate_and_save_model_multiclass(\n",
    "    model,\n",
    "    \"SVM\",\n",
    "    y_train,\n",
    "    y_pred_train,\n",
    "    y_test,\n",
    "    y_pred_test,\n",
    "    \"../results/classification_category/senza aggregazione/svm\",\n",
    "    \"../models/svm_original\",\n",
    "    {\"kernel\":\"rbf\",\"gamma\":\"scale\",\"C\":1.0}\n",
    ")"
   ]
  }
 ],
 "metadata": {
  "kernelspec": {
   "display_name": ".venv",
   "language": "python",
   "name": "python3"
  },
  "language_info": {
   "codemirror_mode": {
    "name": "ipython",
    "version": 3
   },
   "file_extension": ".py",
   "mimetype": "text/x-python",
   "name": "python",
   "nbconvert_exporter": "python",
   "pygments_lexer": "ipython3",
   "version": "3.10.0"
  }
 },
 "nbformat": 4,
 "nbformat_minor": 5
}
