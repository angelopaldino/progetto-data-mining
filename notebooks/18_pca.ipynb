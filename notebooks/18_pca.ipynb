{
 "cells": [
  {
   "cell_type": "markdown",
   "id": "8d920383",
   "metadata": {},
   "source": [
    "# PCA al fine di ridurre l'overfitting dei modelli nei problemi di classificazione multiclasse andiamo ad applicare principal component analysis"
   ]
  },
  {
   "cell_type": "code",
   "execution_count": 8,
   "id": "a920e62e",
   "metadata": {},
   "outputs": [
    {
     "name": "stdout",
     "output_type": "stream",
     "text": [
      "Dimensionalità ridotta da 997 a 661 componenti principali\n",
      "\n",
      "== SVM con PCA === \n",
      "\n",
      "== MLP con PCA === \n",
      "\n",
      "== Random Forest con PCA === \n"
     ]
    }
   ],
   "source": [
    "import pandas as pd\n",
    "import numpy as np\n",
    "from sklearn.preprocessing import StandardScaler\n",
    "from sklearn.decomposition import PCA\n",
    "from sklearn.svm import SVC\n",
    "from sklearn.neural_network import MLPClassifier\n",
    "from sklearn.ensemble import RandomForestClassifier\n",
    "from sklearn.metrics import accuracy_score, f1_score, classification_report\n",
    "import joblib\n",
    "import sys\n",
    "sys.path.append('../Scripts')\n",
    "from utility import evaluate_and_save_model_multiclass\n",
    "\n",
    "# === 1. Caricamento dati splittati\n",
    "X_train = pd.read_csv(\"../data/splitted_category/X_train.csv\")\n",
    "X_test = pd.read_csv(\"../data/splitted_category/X_test.csv\")\n",
    "y_train = pd.read_csv(\"../data/splitted_category/y_train.csv\").values.ravel()\n",
    "y_test = pd.read_csv(\"../data/splitted_category/y_test.csv\").values.ravel()\n",
    "\n",
    "scaler = StandardScaler()\n",
    "X_train_scaled = scaler.fit_transform(X_train)\n",
    "X_test_scaled = scaler.transform(X_test)\n",
    "\n",
    "pca = PCA(n_components=0.90)\n",
    "X_train_pca = pca.fit_transform(X_train_scaled)\n",
    "X_test_pca = pca.transform(X_test_scaled)\n",
    "\n",
    "print(f\"Dimensionalità ridotta da {X_train_scaled.shape[1]} a {X_train_pca.shape[1]} componenti principali\")\n",
    "\n",
    "models = {\n",
    "    \"SVM\": SVC(kernel='rbf', C=1.0, gamma='scale', probability=True, random_state=42),\n",
    "    \"MLP\": MLPClassifier(hidden_layer_sizes=(64, 32), alpha=0.01, max_iter=300, early_stopping=True, random_state=42),\n",
    "    \"Random Forest\": RandomForestClassifier(n_estimators=100, random_state=42)\n",
    "}\n",
    "\n",
    "for name, model in models.items():\n",
    "    print(f\"\\n== {name} con PCA === \")\n",
    "    model.fit(X_train_pca, y_train)\n",
    "    y_pred_train = model.predict(X_train_pca)\n",
    "    y_pred_test = model.predict(X_test_pca)\n",
    "    evaluate_and_save_model_multiclass(\n",
    "        model,\n",
    "        name,\n",
    "        y_train,\n",
    "        y_pred_train,\n",
    "        y_test,\n",
    "        y_pred_test,\n",
    "        \"../results/classification_category/pca\",\n",
    "        f\"../models/{name}_pca.joblib\"\n",
    "    )\n"
   ]
  }
 ],
 "metadata": {
  "kernelspec": {
   "display_name": ".venv",
   "language": "python",
   "name": "python3"
  },
  "language_info": {
   "codemirror_mode": {
    "name": "ipython",
    "version": 3
   },
   "file_extension": ".py",
   "mimetype": "text/x-python",
   "name": "python",
   "nbconvert_exporter": "python",
   "pygments_lexer": "ipython3",
   "version": "3.10.0"
  }
 },
 "nbformat": 4,
 "nbformat_minor": 5
}
