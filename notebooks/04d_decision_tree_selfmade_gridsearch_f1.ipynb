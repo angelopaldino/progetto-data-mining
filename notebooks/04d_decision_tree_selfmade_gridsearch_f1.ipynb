{
 "cells": [
  {
   "cell_type": "markdown",
   "id": "101cb61d",
   "metadata": {},
   "source": [
    "# Decision Tree con GridSearchCV\n",
    "\n",
    "Questo notebook ottimizza un modello Decision Tree sui dati `selfMade` usando GridSearchCV su diversi valori di `max_depth` e criteri di split (`gini`, `entropy`)."
   ]
  },
  {
   "cell_type": "code",
   "execution_count": 1,
   "id": "da110254",
   "metadata": {},
   "outputs": [],
   "source": [
    "import pandas as pd\n",
    "\n",
    "X_train = pd.read_csv(\"../data/splitted/X_train.csv\")\n",
    "X_test = pd.read_csv(\"../data/splitted/X_test.csv\")\n",
    "y_train = pd.read_csv(\"../data/splitted/y_train.csv\").values.ravel()\n",
    "y_test = pd.read_csv(\"../data/splitted/y_test.csv\").values.ravel()"
   ]
  },
  {
   "cell_type": "code",
   "execution_count": 2,
   "id": "82cd7167",
   "metadata": {},
   "outputs": [
    {
     "name": "stdout",
     "output_type": "stream",
     "text": [
      "Migliori parametri trovati: {'criterion': 'entropy', 'max_depth': 7}\n"
     ]
    }
   ],
   "source": [
    "from sklearn.tree import DecisionTreeClassifier\n",
    "from sklearn.model_selection import GridSearchCV\n",
    "\n",
    "param_grid = {\n",
    "    'max_depth': list(range(2, 20)),\n",
    "    'criterion': ['gini', 'entropy']\n",
    "}\n",
    "\n",
    "scoring = {\n",
    "    'accuracy': 'accuracy',\n",
    "    'precision': 'precision',\n",
    "    'recall': 'recall',\n",
    "    'f1': 'f1'\n",
    "}\n",
    "\n",
    "clf = DecisionTreeClassifier(random_state=42)\n",
    "grid_search = GridSearchCV(clf, param_grid, cv=5, scoring=scoring, refit='f1', n_jobs=-1)\n",
    "grid_search.fit(X_train, y_train)\n",
    "\n",
    "print(\"Migliori parametri trovati:\", grid_search.best_params_)"
   ]
  },
  {
   "cell_type": "code",
   "execution_count": 3,
   "id": "8563e39a",
   "metadata": {},
   "outputs": [
    {
     "name": "stdout",
     "output_type": "stream",
     "text": [
      "TEST METRICS:\n",
      "Accuracy: 0.7260\n",
      "Precision: 0.7599\n",
      "Recall: 0.8835\n",
      "F1-Score: 0.8171\n",
      "Confusion Matrix:\n",
      "[[ 89 151]\n",
      " [ 63 478]]\n",
      "TRAIN METRICS:\n",
      "Accuracy: 0.7589236683141132\n",
      "Precision: 0.7807377049180327\n",
      "Recall: 0.9064234734337827\n",
      "F1-Score: 0.8388990825688073\n",
      "Confusion Matrix:\n",
      "[[ 239  321]\n",
      " [ 118 1143]]\n"
     ]
    }
   ],
   "source": [
    "from sklearn.metrics import accuracy_score, precision_score, recall_score, f1_score, confusion_matrix, classification_report\n",
    "\n",
    "best_model = grid_search.best_estimator_\n",
    "\n",
    "y_pred = best_model.predict(X_test)\n",
    "\n",
    "accuracy = accuracy_score(y_test, y_pred)\n",
    "precision = precision_score(y_test, y_pred)\n",
    "recall = recall_score(y_test, y_pred)\n",
    "f1 = f1_score(y_test, y_pred)\n",
    "cm = confusion_matrix(y_test, y_pred)\n",
    "\n",
    "print(\"TEST METRICS:\")\n",
    "\n",
    "print(f\"Accuracy: {accuracy:.4f}\")\n",
    "print(f\"Precision: {precision:.4f}\")\n",
    "print(f\"Recall: {recall:.4f}\")\n",
    "print(f\"F1-Score: {f1:.4f}\")\n",
    "print(\"Confusion Matrix:\")\n",
    "print(cm)\n",
    "\n",
    "y_pred_train = best_model.predict(X_train)\n",
    "\n",
    "print(\"TRAIN METRICS:\")\n",
    "print(\"Accuracy:\", accuracy_score(y_train, y_pred_train))\n",
    "print(\"Precision:\", precision_score(y_train, y_pred_train))\n",
    "print(\"Recall:\", recall_score(y_train, y_pred_train))\n",
    "print(\"F1-Score:\", f1_score(y_train, y_pred_train))\n",
    "print(\"Confusion Matrix:\")\n",
    "print(confusion_matrix(y_train, y_pred_train))"
   ]
  },
  {
   "cell_type": "code",
   "execution_count": 4,
   "id": "83f9a591",
   "metadata": {},
   "outputs": [
    {
     "data": {
      "text/plain": [
       "['../models/decision_tree_gridsearch_f1.joblib']"
      ]
     },
     "execution_count": 4,
     "metadata": {},
     "output_type": "execute_result"
    }
   ],
   "source": [
    "import os\n",
    "import joblib\n",
    "\n",
    "with open(os.path.join(\"../results/classification_selfMade/decision_tree/gridsearch\", \"metrics_gridsearch_F1.txt\"), \"w\") as f:\n",
    "    f.write(f\"Best params: {grid_search.best_params_}\\n\\n\")\n",
    "    f.write(f\"Accuracy: {accuracy:.4f}\\n\")\n",
    "    f.write(f\"Precision: {precision:.4f}\\n\")\n",
    "    f.write(f\"Recall: {recall:.4f}\\n\")\n",
    "    f.write(f\"F1-Score: {f1:.4f}\\n\")\n",
    "    f.write(\"\\nClassification Report:\\n\")\n",
    "    \n",
    "    f.write(\"\\nConfusion Matrix:\\n\")\n",
    "    f.write(str(cm))\n",
    "\n",
    "joblib.dump(best_model, \"../models/decision_tree_gridsearch_f1.joblib\")"
   ]
  },
  {
   "cell_type": "code",
   "execution_count": 5,
   "id": "f9818dbf",
   "metadata": {},
   "outputs": [],
   "source": [
    "import matplotlib.pyplot as plt\n",
    "from sklearn.tree import plot_tree\n",
    "\n",
    "plt.figure(figsize=(20, 10))\n",
    "plot_tree(best_model, filled=True, max_depth=3, feature_names=X_train.columns, class_names=[\"False\", \"True\"])\n",
    "plt.savefig(\"../results/classification_selfMade/decision_tree/gridsearch/decision_tree_grid_preview_f1.png\")\n",
    "plt.close()"
   ]
  },
  {
   "cell_type": "code",
   "execution_count": 6,
   "id": "a03a34eb",
   "metadata": {},
   "outputs": [],
   "source": [
    "import pandas as pd\n",
    "import matplotlib.pyplot as plt\n",
    "\n",
    "results_df = pd.DataFrame(grid_search.cv_results_)\n",
    "\n",
    "plt.figure(figsize=(10, 6))\n",
    "for criterion in results_df[\"param_criterion\"].unique():\n",
    "    subset = results_df[results_df[\"param_criterion\"] == criterion]\n",
    "    plt.plot(subset[\"param_max_depth\"], subset[\"mean_test_f1\"], marker='o', label=criterion.capitalize())\n",
    "\n",
    "plt.title(\"Confronto F1-score medio: Gini vs Entropy\")\n",
    "plt.xlabel(\"max_depth\")\n",
    "plt.ylabel(\"Mean F1-Score (cross-validation)\")\n",
    "plt.legend()\n",
    "plt.grid(True)\n",
    "plt.tight_layout()\n",
    "plt.savefig(\"../results/classification_selfMade/decision_tree/gridsearch/f1_score_comparison.png\")\n",
    "plt.close()"
   ]
  },
  {
   "cell_type": "code",
   "execution_count": 7,
   "id": "e98c98d9",
   "metadata": {},
   "outputs": [
    {
     "name": "stdout",
     "output_type": "stream",
     "text": [
      "Top 3 modelli per F1-score:\n"
     ]
    },
    {
     "data": {
      "text/html": [
       "<div>\n",
       "<style scoped>\n",
       "    .dataframe tbody tr th:only-of-type {\n",
       "        vertical-align: middle;\n",
       "    }\n",
       "\n",
       "    .dataframe tbody tr th {\n",
       "        vertical-align: top;\n",
       "    }\n",
       "\n",
       "    .dataframe thead th {\n",
       "        text-align: right;\n",
       "    }\n",
       "</style>\n",
       "<table border=\"1\" class=\"dataframe\">\n",
       "  <thead>\n",
       "    <tr style=\"text-align: right;\">\n",
       "      <th></th>\n",
       "      <th>param_max_depth</th>\n",
       "      <th>param_criterion</th>\n",
       "      <th>mean_test_f1</th>\n",
       "    </tr>\n",
       "  </thead>\n",
       "  <tbody>\n",
       "    <tr>\n",
       "      <th>23</th>\n",
       "      <td>7</td>\n",
       "      <td>entropy</td>\n",
       "      <td>0.820415</td>\n",
       "    </tr>\n",
       "    <tr>\n",
       "      <th>24</th>\n",
       "      <td>8</td>\n",
       "      <td>entropy</td>\n",
       "      <td>0.817496</td>\n",
       "    </tr>\n",
       "    <tr>\n",
       "      <th>21</th>\n",
       "      <td>5</td>\n",
       "      <td>entropy</td>\n",
       "      <td>0.817276</td>\n",
       "    </tr>\n",
       "  </tbody>\n",
       "</table>\n",
       "</div>"
      ],
      "text/plain": [
       "    param_max_depth param_criterion  mean_test_f1\n",
       "23                7         entropy      0.820415\n",
       "24                8         entropy      0.817496\n",
       "21                5         entropy      0.817276"
      ]
     },
     "metadata": {},
     "output_type": "display_data"
    },
    {
     "name": "stdout",
     "output_type": "stream",
     "text": [
      "Top 3 modelli per Accuracy:\n"
     ]
    },
    {
     "data": {
      "text/html": [
       "<div>\n",
       "<style scoped>\n",
       "    .dataframe tbody tr th:only-of-type {\n",
       "        vertical-align: middle;\n",
       "    }\n",
       "\n",
       "    .dataframe tbody tr th {\n",
       "        vertical-align: top;\n",
       "    }\n",
       "\n",
       "    .dataframe thead th {\n",
       "        text-align: right;\n",
       "    }\n",
       "</style>\n",
       "<table border=\"1\" class=\"dataframe\">\n",
       "  <thead>\n",
       "    <tr style=\"text-align: right;\">\n",
       "      <th></th>\n",
       "      <th>param_max_depth</th>\n",
       "      <th>param_criterion</th>\n",
       "      <th>mean_test_accuracy</th>\n",
       "    </tr>\n",
       "  </thead>\n",
       "  <tbody>\n",
       "    <tr>\n",
       "      <th>26</th>\n",
       "      <td>10</td>\n",
       "      <td>entropy</td>\n",
       "      <td>0.726530</td>\n",
       "    </tr>\n",
       "    <tr>\n",
       "      <th>23</th>\n",
       "      <td>7</td>\n",
       "      <td>entropy</td>\n",
       "      <td>0.725434</td>\n",
       "    </tr>\n",
       "    <tr>\n",
       "      <th>29</th>\n",
       "      <td>13</td>\n",
       "      <td>entropy</td>\n",
       "      <td>0.724325</td>\n",
       "    </tr>\n",
       "  </tbody>\n",
       "</table>\n",
       "</div>"
      ],
      "text/plain": [
       "    param_max_depth param_criterion  mean_test_accuracy\n",
       "26               10         entropy            0.726530\n",
       "23                7         entropy            0.725434\n",
       "29               13         entropy            0.724325"
      ]
     },
     "metadata": {},
     "output_type": "display_data"
    }
   ],
   "source": [
    "results_df = pd.DataFrame(grid_search.cv_results_)\n",
    "\n",
    "top_f1 = results_df.sort_values(\"mean_test_f1\", ascending=False).head(3)\n",
    "top_acc = results_df.sort_values(\"mean_test_accuracy\", ascending=False).head(3)\n",
    "\n",
    "print(\"Top 3 modelli per F1-score:\")\n",
    "display(top_f1[[\"param_max_depth\", \"param_criterion\", \"mean_test_f1\"]])\n",
    "\n",
    "print(\"Top 3 modelli per Accuracy:\")\n",
    "display(top_acc[[\"param_max_depth\", \"param_criterion\", \"mean_test_accuracy\"]])\n",
    "\n"
   ]
  }
 ],
 "metadata": {
  "kernelspec": {
   "display_name": ".venv",
   "language": "python",
   "name": "python3"
  },
  "language_info": {
   "codemirror_mode": {
    "name": "ipython",
    "version": 3
   },
   "file_extension": ".py",
   "mimetype": "text/x-python",
   "name": "python",
   "nbconvert_exporter": "python",
   "pygments_lexer": "ipython3",
   "version": "3.10.0"
  }
 },
 "nbformat": 4,
 "nbformat_minor": 5
}
