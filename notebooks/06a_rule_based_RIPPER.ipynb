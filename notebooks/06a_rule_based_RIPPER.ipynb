{
 "cells": [
  {
   "cell_type": "markdown",
   "id": "bb5d3ee5",
   "metadata": {},
   "source": [
    "# Classificazione Binaria: `selfMade` con rulebased RIPPER"
   ]
  },
  {
   "cell_type": "code",
   "execution_count": 1,
   "id": "b056eef5",
   "metadata": {},
   "outputs": [],
   "source": [
    "import pandas as pd\n",
    "import wittgenstein as lw\n",
    "import sys\n",
    "sys.path.append('../Scripts')\n",
    "from utility import evaluate_and_save_model\n",
    "from sklearn.model_selection import train_test_split\n",
    "from sklearn.metrics import classification_report, accuracy_score, precision_score, recall_score, f1_score,confusion_matrix\n",
    "\n",
    "X_train = pd.read_csv(\"../data/splitted/X_train.csv\")\n",
    "X_test = pd.read_csv(\"../data/splitted/X_test.csv\")\n",
    "y_train = pd.read_csv(\"../data/splitted/y_train.csv\").values.ravel()\n",
    "y_test = pd.read_csv(\"../data/splitted/y_test.csv\").values.ravel()\n",
    "\n",
    "k=2\n",
    "model = lw.RIPPER(k=k)\n",
    "model.fit(X_train, y_train)\n",
    "\n",
    "y_pred_train = model.predict(X_train)\n",
    "y_pred_test = model.predict(X_test)\n",
    "\n",
    "evaluate_and_save_model(\n",
    "    model,\n",
    "    \"ripper\",\n",
    "    y_train,\n",
    "    y_pred_train,\n",
    "    y_test,\n",
    "    y_pred_test,\n",
    "    \"../results/classification_selfMade/rule_based/direct\",\n",
    "    \"../models/rule_based_ripper.joblib\"\n",
    ")\n",
    "rules_path = \"../results/classification_selfMade/rule_based/direct/rules.txt\"\n",
    "with open(rules_path, \"w\") as f:\n",
    "    f.write(\"=== RIPPER Rule Set ===\\n\\n\")\n",
    "    for i, rule in enumerate(model.ruleset_, 1):\n",
    "        f.write(f\"Rule {i}: {rule}\\n\")\n",
    "\n",
    "\n"
   ]
  }
 ],
 "metadata": {
  "kernelspec": {
   "display_name": ".venv",
   "language": "python",
   "name": "python3"
  },
  "language_info": {
   "codemirror_mode": {
    "name": "ipython",
    "version": 3
   },
   "file_extension": ".py",
   "mimetype": "text/x-python",
   "name": "python",
   "nbconvert_exporter": "python",
   "pygments_lexer": "ipython3",
   "version": "3.10.0"
  }
 },
 "nbformat": 4,
 "nbformat_minor": 5
}
