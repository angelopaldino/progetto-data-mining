{
 "cells": [
  {
   "cell_type": "markdown",
   "id": "bb5d3ee5",
   "metadata": {},
   "source": [
    "# Classificazione Binaria: `selfMade` con rulebased RIPPER"
   ]
  },
  {
   "cell_type": "code",
   "execution_count": 5,
   "id": "b056eef5",
   "metadata": {},
   "outputs": [
    {
     "name": "stdout",
     "output_type": "stream",
     "text": [
      "TRAIN METRICS\n",
      "              precision    recall  f1-score   support\n",
      "\n",
      "       False       0.42      0.98      0.59       640\n",
      "        True       0.98      0.40      0.57      1441\n",
      "\n",
      "    accuracy                           0.58      2081\n",
      "   macro avg       0.70      0.69      0.58      2081\n",
      "weighted avg       0.81      0.58      0.58      2081\n",
      "\n",
      "[[627  13]\n",
      " [858 583]]\n",
      "\n",
      "TEST METRICS\n",
      "              precision    recall  f1-score   support\n",
      "\n",
      "       False       0.42      0.96      0.59       160\n",
      "        True       0.96      0.42      0.58       361\n",
      "\n",
      "    accuracy                           0.58       521\n",
      "   macro avg       0.69      0.69      0.58       521\n",
      "weighted avg       0.80      0.58      0.58       521\n",
      "\n",
      "[[154   6]\n",
      " [211 150]]\n",
      "\n",
      "Regole generate:\n",
      "[[population_country=>1366417754.0^category_Manufacturing=True] V [population_country=>1366417754.0^category_Metals&Mining=False^category_Healthcare=False^category_Diversified=False] V [population_country=83429615.0-328239523.0^category_Technology=True^age=<49.0] V [population_country=83429615.0-328239523.0^gross_tertiary_education_enrollment=65.6-81.9] V [cpi_country=115.91-117.24^category_Technology=True] V [population_country=>1366417754.0^category_Metals&Mining=False]]\n"
     ]
    }
   ],
   "source": [
    "import pandas as pd\n",
    "import wittgenstein as lw\n",
    "from sklearn.model_selection import train_test_split\n",
    "from sklearn.metrics import classification_report, accuracy_score, precision_score, recall_score, f1_score,confusion_matrix\n",
    "\n",
    "X_train = pd.read_csv(\"../data/splitted/X_train.csv\")\n",
    "X_test = pd.read_csv(\"../data/splitted/X_test.csv\")\n",
    "y_train = pd.read_csv(\"../data/splitted/y_train.csv\").values.ravel()\n",
    "y_test = pd.read_csv(\"../data/splitted/y_test.csv\").values.ravel()\n",
    "\n",
    "k=2\n",
    "model = lw.RIPPER(k=k)\n",
    "model.fit(X_train, y_train)\n",
    "\n",
    "y_pred_train = model.predict(X_train)\n",
    "y_pred_test = model.predict(X_test)\n",
    "\n",
    "print(\"TRAIN METRICS\")\n",
    "print(classification_report(y_train, y_pred_train))\n",
    "train_cm = confusion_matrix(y_train, y_pred_train)\n",
    "print(train_cm)\n",
    "print(\"\\nTEST METRICS\")\n",
    "print(classification_report(y_test, y_pred_test))\n",
    "test_cm = confusion_matrix(y_test, y_pred_test)\n",
    "print(test_cm)\n",
    "\n",
    "print(\"\\nRegole generate:\")\n",
    "print(model.ruleset_)\n"
   ]
  },
  {
   "cell_type": "code",
   "execution_count": 6,
   "id": "5d974e30",
   "metadata": {},
   "outputs": [
    {
     "name": "stdout",
     "output_type": "stream",
     "text": [
      "✔ Metriche salvate in: ../results/classification_selfMade/rule_based/direct\\ripper_rule_based.txt\n"
     ]
    }
   ],
   "source": [
    "import os \n",
    "\n",
    "train_metrics = {\n",
    "    \"Accuracy\": accuracy_score(y_train, y_pred_train),\n",
    "    \"Precision\": precision_score(y_train, y_pred_train),\n",
    "    \"Recall\": recall_score(y_train, y_pred_train),\n",
    "    \"F1-Score\": f1_score(y_train, y_pred_train)\n",
    "}\n",
    "test_metrics = {\n",
    "    \"Accuracy\": accuracy_score(y_test, y_pred_test),\n",
    "    \"Precision\": precision_score(y_test, y_pred_test),\n",
    "    \"Recall\": recall_score(y_test, y_pred_test),\n",
    "    \"F1-Score\": f1_score(y_test, y_pred_test)\n",
    "}\n",
    "\n",
    "output_dir = \"../results/classification_selfMade/rule_based/direct\"\n",
    "os.makedirs(output_dir, exist_ok=True)\n",
    "\n",
    "filename = os.path.join(output_dir, \"ripper_rule_based.txt\")\n",
    "with open(filename, \"w\") as f:\n",
    "    f.write(\"Modello: RIPPER (Rule-Based) con livello di pruning \"+str(k)+ \"\\n\")\n",
    "    f.write(\"\\nTRAIN METRICS:\\n\")\n",
    "    for k, v in train_metrics.items():\n",
    "        f.write(f\"{k}: {v:.4f}\\n\")\n",
    "    f.write(\"Confusion Matrix:\\n\")\n",
    "    f.write(f\"{train_cm}\\n\\n\")    \n",
    "\n",
    "    f.write(\"\\nTEST METRICS:\\n\")\n",
    "    for k, v in test_metrics.items():\n",
    "        f.write(f\"{k}: {v:.4f}\\n\")\n",
    "    f.write(\"Confusion Matrix:\\n\")\n",
    "    f.write(f\"{test_cm}\\n\")    \n",
    "\n",
    "    f.write(\"\\nREGOLE APPRESE:\\n\")\n",
    "    f.write(str(model.ruleset_))\n",
    "\n",
    "print(f\"✔ Metriche salvate in: {filename}\")"
   ]
  }
 ],
 "metadata": {
  "kernelspec": {
   "display_name": ".venv",
   "language": "python",
   "name": "python3"
  },
  "language_info": {
   "codemirror_mode": {
    "name": "ipython",
    "version": 3
   },
   "file_extension": ".py",
   "mimetype": "text/x-python",
   "name": "python",
   "nbconvert_exporter": "python",
   "pygments_lexer": "ipython3",
   "version": "3.10.0"
  }
 },
 "nbformat": 4,
 "nbformat_minor": 5
}
