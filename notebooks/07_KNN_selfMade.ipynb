{
 "cells": [
  {
   "cell_type": "markdown",
   "id": "0faab7bf",
   "metadata": {},
   "source": [
    "# Classificazione Binaria: `selfMade` con K-NEAREST NEIGHOBOR"
   ]
  },
  {
   "cell_type": "code",
   "execution_count": null,
   "id": "e54bd3e7",
   "metadata": {},
   "outputs": [
    {
     "name": "stdout",
     "output_type": "stream",
     "text": [
      "Colonne con solo NaN:\n",
      "Index(['source'], dtype='object')\n",
      "Colonne costanti:\n",
      "Index(['source', 'country_Lebanon', 'country_Nepal', 'country_Oman',\n",
      "       'country_Uzbekistan'],\n",
      "      dtype='object')\n"
     ]
    }
   ],
   "source": [
    "import pandas as pd\n",
    "import numpy as np\n",
    "from sklearn.neighbors import KNeighborsClassifier\n",
    "from sklearn.metrics import accuracy_score, precision_score, recall_score, f1_score, confusion_matrix\n",
    "from sklearn.preprocessing import StandardScaler\n",
    "import os\n",
    "\n",
    "# Caricamento dati\n",
    "X_train = pd.read_csv(\"../data/splitted/X_train.csv\")\n",
    "X_test = pd.read_csv(\"../data/splitted/X_test.csv\")\n",
    "y_train = pd.read_csv(\"../data/splitted/y_train.csv\").values.ravel()\n",
    "y_test = pd.read_csv(\"../data/splitted/y_test.csv\").values.ravel()\n",
    "\n",
    "#print(X_train.nunique())\n",
    "#print(X_train.isna().sum())\n",
    "#print(np.isinf(X_train).sum())\n",
    "\n",
    "\n",
    "print(\"Colonne con solo NaN:\")\n",
    "print(X_train.columns[X_train.isna().all()])\n",
    "\n",
    "print(\"Colonne costanti:\")\n",
    "print(X_train.columns[X_train.nunique() <= 1])\n",
    "\n",
    "# Rimozione colonne inutili o problematiche\n",
    "X_train = X_train.drop(columns=['source'], errors='ignore')  # elimino colonna tutta NaN\n",
    "X_train = X_train.loc[:, X_train.nunique() > 1]  # elimino colonne costanti\n",
    "\n",
    "# Allineamento test set\n",
    "X_test = X_test[X_train.columns]\n",
    "\n",
    "# Riempio NaN residui con la mediana\n",
    "X_train = X_train.fillna(X_train.median())\n",
    "X_test = X_test.fillna(X_train.median())\n",
    "\n",
    "\n",
    "\n",
    "\n",
    "\n",
    "\n"
   ]
  },
  {
   "cell_type": "code",
   "execution_count": 16,
   "id": "c0f0cad9",
   "metadata": {},
   "outputs": [],
   "source": [
    "# Per operare correttamente gli attributi devono avere la stessa scala di valori e vanno normalizzati in fase di pre-processing\n",
    "# standardizzazione\n",
    "\n",
    "scaler = StandardScaler()\n",
    "X_train_scaled = scaler.fit_transform(X_train)\n",
    "X_test_scaled = scaler.transform(X_test)"
   ]
  },
  {
   "cell_type": "code",
   "execution_count": 17,
   "id": "48f63095",
   "metadata": {},
   "outputs": [],
   "source": [
    "# Parametri del modello\n",
    "k = 5\n",
    "model_name = f\"knn_k{k}\"\n",
    "\n",
    "# Addestramento modello KNN\n",
    "model = KNeighborsClassifier(n_neighbors=k)\n",
    "model.fit(X_train_scaled, y_train)\n",
    "\n",
    "# Predizioni\n",
    "y_pred_train = model.predict(X_train_scaled)\n",
    "y_pred_test = model.predict(X_test_scaled)"
   ]
  },
  {
   "cell_type": "code",
   "execution_count": 18,
   "id": "fac29823",
   "metadata": {},
   "outputs": [
    {
     "name": "stdout",
     "output_type": "stream",
     "text": [
      "✔ Metriche salvate in: ../results/classification_selfMade/KNN\\knn_k5_metrics.txt\n"
     ]
    }
   ],
   "source": [
    "# Metriche\n",
    "train_metrics = {\n",
    "    \"Accuracy\": accuracy_score(y_train, y_pred_train),\n",
    "    \"Precision\": precision_score(y_train, y_pred_train),\n",
    "    \"Recall\": recall_score(y_train, y_pred_train),\n",
    "    \"F1-Score\": f1_score(y_train, y_pred_train),\n",
    "    \"Confusion Matrix\": confusion_matrix(y_train, y_pred_train).tolist()\n",
    "}\n",
    "test_metrics = {\n",
    "    \"Accuracy\": accuracy_score(y_test, y_pred_test),\n",
    "    \"Precision\": precision_score(y_test, y_pred_test),\n",
    "    \"Recall\": recall_score(y_test, y_pred_test),\n",
    "    \"F1-Score\": f1_score(y_test, y_pred_test),\n",
    "    \"Confusion Matrix\": confusion_matrix(y_test, y_pred_test).tolist()\n",
    "}\n",
    "\n",
    "# Salvataggio risultati\n",
    "output_dir = \"../results/classification_selfMade/KNN\"\n",
    "os.makedirs(output_dir, exist_ok=True)\n",
    "\n",
    "filename = os.path.join(output_dir, f\"{model_name}_metrics.txt\")\n",
    "with open(filename, \"w\") as f:\n",
    "    f.write(f\"Modello: KNeighborsClassifier (k={k})\\n\\n\")\n",
    "\n",
    "    f.write(\"TRAIN METRICS:\\n\")\n",
    "    for k, v in train_metrics.items():\n",
    "        if k == \"Confusion Matrix\":\n",
    "            f.write(\"Confusion Matrix:\\n\")\n",
    "            f.write(f\"{v}\\n\")\n",
    "        else:\n",
    "            f.write(f\"{k}: {v:.4f}\\n\")\n",
    "\n",
    "    f.write(\"\\nTEST METRICS:\\n\")\n",
    "    for k, v in test_metrics.items():\n",
    "        if k == \"Confusion Matrix\":\n",
    "            f.write(\"Confusion Matrix:\\n\")\n",
    "            f.write(f\"{v}\\n\")\n",
    "        else:\n",
    "            f.write(f\"{k}: {v:.4f}\\n\")\n",
    "\n",
    "print(f\"✔ Metriche salvate in: {filename}\")\n"
   ]
  }
 ],
 "metadata": {
  "kernelspec": {
   "display_name": ".venv",
   "language": "python",
   "name": "python3"
  },
  "language_info": {
   "codemirror_mode": {
    "name": "ipython",
    "version": 3
   },
   "file_extension": ".py",
   "mimetype": "text/x-python",
   "name": "python",
   "nbconvert_exporter": "python",
   "pygments_lexer": "ipython3",
   "version": "3.10.0"
  }
 },
 "nbformat": 4,
 "nbformat_minor": 5
}
