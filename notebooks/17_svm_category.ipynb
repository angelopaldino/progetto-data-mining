{
 "cells": [
  {
   "cell_type": "markdown",
   "id": "a78153ca",
   "metadata": {},
   "source": [
    "# Classificazione multiclasse con svm\n",
    "Lo scopo è valutare le prestazioni dell'svm utilizzando il kernel rbf\n",
    "\n",
    "## Parametri utilizzati:\n",
    "- kernel='rbf': consente di gestire separazioni non lineari.\n",
    "- C=1.0: bilancia l'accuratezza nel training con la capacità di generalizzare.\n",
    "- gamma='scale': imposta automaticamente il parametro gamma.\n",
    "- class_weight='balanced gestisce lo sbilanciamento tra le classi."
   ]
  },
  {
   "cell_type": "code",
   "execution_count": 1,
   "id": "516a1c2d",
   "metadata": {},
   "outputs": [],
   "source": [
    "import pandas as pd\n",
    "import numpy as np\n",
    "from sklearn.neural_network import MLPClassifier\n",
    "from sklearn.preprocessing import StandardScaler\n",
    "from sklearn.metrics import accuracy_score, precision_score, recall_score, f1_score, confusion_matrix,classification_report\n",
    "import os\n",
    "import joblib\n",
    "from sklearn.svm import SVC\n",
    "import sys\n",
    "sys.path.append('../Scripts')\n",
    "from utility import evaluate_and_save_model_multiclass\n",
    "\n",
    "X_train = pd.read_csv(\"../data/splitted_category/X_train.csv\")\n",
    "X_test = pd.read_csv(\"../data/splitted_category/X_test.csv\")\n",
    "y_train = pd.read_csv(\"../data/splitted_category/y_train.csv\").values.ravel()\n",
    "y_test = pd.read_csv(\"../data/splitted_category/y_test.csv\").values.ravel()  \n",
    "\n",
    "scaler = StandardScaler()\n",
    "X_train_scaled = scaler.fit_transform(X_train)\n",
    "X_test_scaled = scaler.transform(X_test)\n",
    "joblib.dump(scaler, \"../models/scaler_svm_category.joblib\")\n",
    "\n",
    "\n",
    "model = SVC(kernel='rbf', C=1.0, gamma='scale',class_weight='balanced', random_state=42)\n",
    "model.fit(X_train_scaled, y_train)\n",
    "\n",
    "y_pred_train = model.predict(X_train_scaled)\n",
    "y_pred_test = model.predict(X_test_scaled)\n",
    "\n",
    "evaluate_and_save_model_multiclass(\n",
    "    model,\n",
    "    \"SVM\",\n",
    "    y_train,\n",
    "    y_pred_train,\n",
    "    y_test,\n",
    "    y_pred_test,\n",
    "    \"../results/classification_category/SVM\",\n",
    "    \"../models/svm_category.joblib\",\n",
    "    {\"kernel\":\"rbf\",\"gamma\":\"scale\",\"C\":1.0}\n",
    ")"
   ]
  }
 ],
 "metadata": {
  "kernelspec": {
   "display_name": ".venv",
   "language": "python",
   "name": "python3"
  },
  "language_info": {
   "codemirror_mode": {
    "name": "ipython",
    "version": 3
   },
   "file_extension": ".py",
   "mimetype": "text/x-python",
   "name": "python",
   "nbconvert_exporter": "python",
   "pygments_lexer": "ipython3",
   "version": "3.10.0"
  }
 },
 "nbformat": 4,
 "nbformat_minor": 5
}
