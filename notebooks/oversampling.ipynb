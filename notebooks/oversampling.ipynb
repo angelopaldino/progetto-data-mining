{
 "cells": [
  {
   "cell_type": "markdown",
   "id": "1af81d85",
   "metadata": {},
   "source": [
    "# Oversampling con SMOTE per la classificazione multiclasse\n",
    "\n",
    "In questo notebook è stato applicato l'**oversampling** tramite SMOTE alla classe 2 (la più minoritaria). Dalle analisi risultava che la classe 2 avesso solo 70 istanze.\n",
    "Successivamente sono stati addestrati e valutati 4 modelli di classificazione:\n",
    "- MLP (rete neurale)\n",
    "- KNN\n",
    "- SVM\n",
    "- Balanced Random Forest\n",
    "\n",
    "L’obiettivo è ridurre l’overfitting e migliorare la generalizzazione del modello.\n",
    "Viene utilizzato standard scaler per i modelli mlp knn e svm mentre per balanced rf non è necessaria. La valutazione dei modelli viene fatta su:\n",
    "- training set (oversamplato)\n",
    "- test set (non oversamplato)"
   ]
  },
  {
   "cell_type": "code",
   "execution_count": null,
   "id": "6f05dde1",
   "metadata": {},
   "outputs": [
    {
     "name": "stdout",
     "output_type": "stream",
     "text": [
      "\n",
      "=== MLP ===\n",
      "\n",
      "=== KNN ===\n",
      "\n",
      "=== SVM ===\n",
      "\n",
      "=== Balanced random forest ===\n"
     ]
    }
   ],
   "source": [
    "import pandas as pd\n",
    "import numpy as np\n",
    "import sys\n",
    "sys.path.append('../Scripts')\n",
    "from utility import evaluate_and_save_model_multiclass\n",
    "from sklearn.svm import SVC\n",
    "from sklearn.metrics import classification_report, confusion_matrix\n",
    "from imblearn.ensemble import BalancedRandomForestClassifier\n",
    "from sklearn.neural_network import MLPClassifier\n",
    "from sklearn.neighbors import KNeighborsClassifier\n",
    "from sklearn.tree import DecisionTreeClassifier\n",
    "from imblearn.over_sampling import SMOTE\n",
    "from sklearn.preprocessing import StandardScaler\n",
    "\n",
    "X_train = pd.read_csv(\"../data/splitted_category/X_train.csv\")\n",
    "X_test = pd.read_csv(\"../data/splitted_category/X_test.csv\")\n",
    "y_train = pd.read_csv(\"../data/splitted_category/y_train.csv\").values.ravel()\n",
    "y_test = pd.read_csv(\"../data/splitted_category/y_test.csv\").values.ravel()\n",
    "\n",
    "smote = SMOTE(sampling_strategy={2: 190}, random_state=42) # portiamo la classe 2 a 190 esempi\n",
    "X_train_resampled, y_train_resampled = smote.fit_resample(X_train, y_train)\n",
    "\n",
    "scaler = StandardScaler()\n",
    "X_train_scaled = scaler.fit_transform(X_train_resampled)\n",
    "X_test_scaled = scaler.transform(X_test)\n",
    "\n",
    "models = {\n",
    "    \"MLP\": MLPClassifier(hidden_layer_sizes=(64, 32), activation='tanh',\n",
    "                         alpha=0.01, learning_rate_init=0.01, solver='adam', \n",
    "                         max_iter=300,early_stopping=True,                  \n",
    "                         validation_fraction=0.2, random_state=42),\n",
    "    \"KNN\": KNeighborsClassifier(n_neighbors=9, weights='distance'),\n",
    "    \"SVM\": SVC(kernel='rbf', C=1.0, gamma='scale', random_state=42),\n",
    "\n",
    "    \"Balanced random forest\": BalancedRandomForestClassifier(n_estimators=100,max_depth=15, min_samples_leaf=1, min_samples_split=2,max_features='log2',random_state=42)                                        \n",
    "\n",
    "}\n",
    "\n",
    "use_scaled = [\"MLP\", \"KNN\",\"SVM\"]\n",
    "for name, model in models.items():\n",
    "    print(f\"\\n=== {name} ===\")\n",
    "    \n",
    "    if name in use_scaled:\n",
    "        model.fit(X_train_scaled, y_train_resampled)\n",
    "        y_pred_train = model.predict(X_train_scaled)\n",
    "        y_pred_test = model.predict(X_test_scaled)\n",
    "        evaluate_and_save_model_multiclass(\n",
    "            model,\n",
    "            name,\n",
    "            y_train_resampled,\n",
    "            y_pred_train,\n",
    "            y_test,\n",
    "            y_pred_test,\n",
    "            \"../results/classification_category/oversampling\",\n",
    "            f\"../models/{name}_oversampling_category.joblib\",\n",
    "            {\"oversampling\":\" solo sulle classi minoritarie 2\"}\n",
    "\n",
    "        )\n",
    "    else:\n",
    "        model.fit(X_train_resampled, y_train_resampled)\n",
    "        y_pred_train = model.predict(X_train_resampled)\n",
    "        y_pred_test = model.predict(X_test)\n",
    "        evaluate_and_save_model_multiclass(\n",
    "            model,\n",
    "            name,\n",
    "            y_train_resampled,\n",
    "            y_pred_train,\n",
    "            y_test,\n",
    "            y_pred_test,\n",
    "            \"../results/classification_category/oversampling\",\n",
    "            f\"../models/{name}_oversampling_category.joblib\",\n",
    "            {\"oversampling\":\" solo sulle classi minoritarie 2\"}\n",
    "        )    \n"
   ]
  },
  {
   "cell_type": "code",
   "execution_count": 2,
   "id": "096af236",
   "metadata": {},
   "outputs": [
    {
     "name": "stdout",
     "output_type": "stream",
     "text": [
      "Distribuzione classi nel training:\n",
      "0    166\n",
      "1    131\n",
      "2     70\n",
      "3    396\n",
      "4    382\n",
      "5    389\n",
      "6    314\n",
      "Name: count, dtype: int64\n"
     ]
    }
   ],
   "source": [
    "import pandas as pd\n",
    "print(\"Distribuzione classi nel training:\")\n",
    "print(pd.Series(y_train).value_counts().sort_index())\n"
   ]
  }
 ],
 "metadata": {
  "kernelspec": {
   "display_name": ".venv",
   "language": "python",
   "name": "python3"
  },
  "language_info": {
   "codemirror_mode": {
    "name": "ipython",
    "version": 3
   },
   "file_extension": ".py",
   "mimetype": "text/x-python",
   "name": "python",
   "nbconvert_exporter": "python",
   "pygments_lexer": "ipython3",
   "version": "3.10.0"
  }
 },
 "nbformat": 4,
 "nbformat_minor": 5
}
