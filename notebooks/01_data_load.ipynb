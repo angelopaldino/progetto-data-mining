{
 "cells": [
  {
   "cell_type": "markdown",
   "id": "b9e7860d",
   "metadata": {},
   "source": [
    "## Caricamento del Dataset\n",
    "\n",
    "In questa sezione importiamo la libreria pandas e carichiamo il dataset dei miliardari.\n",
    "\n",
    "Il file si trova nella cartella ../data/raw/ e viene letto come un DataFrame.  \n",
    "Visualizziamo le prime 5 righe per avere un'anteprima della struttura dei dati.\n"
   ]
  },
  {
   "cell_type": "code",
   "execution_count": 2,
   "id": "af63a677",
   "metadata": {},
   "outputs": [
    {
     "name": "stdout",
     "output_type": "stream",
     "text": [
      "0       False\n",
      "1        True\n",
      "2        True\n",
      "3        True\n",
      "4        True\n",
      "        ...  \n",
      "2635     True\n",
      "2636    False\n",
      "2637     True\n",
      "2638     True\n",
      "2639    False\n",
      "Name: selfMade, Length: 2640, dtype: bool\n"
     ]
    },
    {
     "data": {
      "text/html": [
       "<div>\n",
       "<style scoped>\n",
       "    .dataframe tbody tr th:only-of-type {\n",
       "        vertical-align: middle;\n",
       "    }\n",
       "\n",
       "    .dataframe tbody tr th {\n",
       "        vertical-align: top;\n",
       "    }\n",
       "\n",
       "    .dataframe thead th {\n",
       "        text-align: right;\n",
       "    }\n",
       "</style>\n",
       "<table border=\"1\" class=\"dataframe\">\n",
       "  <thead>\n",
       "    <tr style=\"text-align: right;\">\n",
       "      <th></th>\n",
       "      <th>rank</th>\n",
       "      <th>finalWorth</th>\n",
       "      <th>category</th>\n",
       "      <th>personName</th>\n",
       "      <th>age</th>\n",
       "      <th>country</th>\n",
       "      <th>city</th>\n",
       "      <th>source</th>\n",
       "      <th>industries</th>\n",
       "      <th>countryOfCitizenship</th>\n",
       "      <th>...</th>\n",
       "      <th>cpi_change_country</th>\n",
       "      <th>gdp_country</th>\n",
       "      <th>gross_tertiary_education_enrollment</th>\n",
       "      <th>gross_primary_education_enrollment_country</th>\n",
       "      <th>life_expectancy_country</th>\n",
       "      <th>tax_revenue_country_country</th>\n",
       "      <th>total_tax_rate_country</th>\n",
       "      <th>population_country</th>\n",
       "      <th>latitude_country</th>\n",
       "      <th>longitude_country</th>\n",
       "    </tr>\n",
       "  </thead>\n",
       "  <tbody>\n",
       "    <tr>\n",
       "      <th>0</th>\n",
       "      <td>1</td>\n",
       "      <td>211000</td>\n",
       "      <td>Fashion &amp; Retail</td>\n",
       "      <td>Bernard Arnault &amp; family</td>\n",
       "      <td>74.0</td>\n",
       "      <td>France</td>\n",
       "      <td>Paris</td>\n",
       "      <td>LVMH</td>\n",
       "      <td>Fashion &amp; Retail</td>\n",
       "      <td>France</td>\n",
       "      <td>...</td>\n",
       "      <td>1.1</td>\n",
       "      <td>$2,715,518,274,227</td>\n",
       "      <td>65.6</td>\n",
       "      <td>102.5</td>\n",
       "      <td>82.5</td>\n",
       "      <td>24.2</td>\n",
       "      <td>60.7</td>\n",
       "      <td>67059887.0</td>\n",
       "      <td>46.227638</td>\n",
       "      <td>2.213749</td>\n",
       "    </tr>\n",
       "    <tr>\n",
       "      <th>1</th>\n",
       "      <td>2</td>\n",
       "      <td>180000</td>\n",
       "      <td>Automotive</td>\n",
       "      <td>Elon Musk</td>\n",
       "      <td>51.0</td>\n",
       "      <td>United States</td>\n",
       "      <td>Austin</td>\n",
       "      <td>Tesla, SpaceX</td>\n",
       "      <td>Automotive</td>\n",
       "      <td>United States</td>\n",
       "      <td>...</td>\n",
       "      <td>7.5</td>\n",
       "      <td>$21,427,700,000,000</td>\n",
       "      <td>88.2</td>\n",
       "      <td>101.8</td>\n",
       "      <td>78.5</td>\n",
       "      <td>9.6</td>\n",
       "      <td>36.6</td>\n",
       "      <td>328239523.0</td>\n",
       "      <td>37.090240</td>\n",
       "      <td>-95.712891</td>\n",
       "    </tr>\n",
       "    <tr>\n",
       "      <th>2</th>\n",
       "      <td>3</td>\n",
       "      <td>114000</td>\n",
       "      <td>Technology</td>\n",
       "      <td>Jeff Bezos</td>\n",
       "      <td>59.0</td>\n",
       "      <td>United States</td>\n",
       "      <td>Medina</td>\n",
       "      <td>Amazon</td>\n",
       "      <td>Technology</td>\n",
       "      <td>United States</td>\n",
       "      <td>...</td>\n",
       "      <td>7.5</td>\n",
       "      <td>$21,427,700,000,000</td>\n",
       "      <td>88.2</td>\n",
       "      <td>101.8</td>\n",
       "      <td>78.5</td>\n",
       "      <td>9.6</td>\n",
       "      <td>36.6</td>\n",
       "      <td>328239523.0</td>\n",
       "      <td>37.090240</td>\n",
       "      <td>-95.712891</td>\n",
       "    </tr>\n",
       "    <tr>\n",
       "      <th>3</th>\n",
       "      <td>4</td>\n",
       "      <td>107000</td>\n",
       "      <td>Technology</td>\n",
       "      <td>Larry Ellison</td>\n",
       "      <td>78.0</td>\n",
       "      <td>United States</td>\n",
       "      <td>Lanai</td>\n",
       "      <td>Oracle</td>\n",
       "      <td>Technology</td>\n",
       "      <td>United States</td>\n",
       "      <td>...</td>\n",
       "      <td>7.5</td>\n",
       "      <td>$21,427,700,000,000</td>\n",
       "      <td>88.2</td>\n",
       "      <td>101.8</td>\n",
       "      <td>78.5</td>\n",
       "      <td>9.6</td>\n",
       "      <td>36.6</td>\n",
       "      <td>328239523.0</td>\n",
       "      <td>37.090240</td>\n",
       "      <td>-95.712891</td>\n",
       "    </tr>\n",
       "    <tr>\n",
       "      <th>4</th>\n",
       "      <td>5</td>\n",
       "      <td>106000</td>\n",
       "      <td>Finance &amp; Investments</td>\n",
       "      <td>Warren Buffett</td>\n",
       "      <td>92.0</td>\n",
       "      <td>United States</td>\n",
       "      <td>Omaha</td>\n",
       "      <td>Berkshire Hathaway</td>\n",
       "      <td>Finance &amp; Investments</td>\n",
       "      <td>United States</td>\n",
       "      <td>...</td>\n",
       "      <td>7.5</td>\n",
       "      <td>$21,427,700,000,000</td>\n",
       "      <td>88.2</td>\n",
       "      <td>101.8</td>\n",
       "      <td>78.5</td>\n",
       "      <td>9.6</td>\n",
       "      <td>36.6</td>\n",
       "      <td>328239523.0</td>\n",
       "      <td>37.090240</td>\n",
       "      <td>-95.712891</td>\n",
       "    </tr>\n",
       "  </tbody>\n",
       "</table>\n",
       "<p>5 rows × 35 columns</p>\n",
       "</div>"
      ],
      "text/plain": [
       "   rank  finalWorth               category                personName   age  \\\n",
       "0     1      211000       Fashion & Retail  Bernard Arnault & family  74.0   \n",
       "1     2      180000             Automotive                 Elon Musk  51.0   \n",
       "2     3      114000             Technology                Jeff Bezos  59.0   \n",
       "3     4      107000             Technology             Larry Ellison  78.0   \n",
       "4     5      106000  Finance & Investments            Warren Buffett  92.0   \n",
       "\n",
       "         country    city              source             industries  \\\n",
       "0         France   Paris                LVMH       Fashion & Retail   \n",
       "1  United States  Austin       Tesla, SpaceX             Automotive   \n",
       "2  United States  Medina              Amazon             Technology   \n",
       "3  United States   Lanai              Oracle             Technology   \n",
       "4  United States   Omaha  Berkshire Hathaway  Finance & Investments   \n",
       "\n",
       "  countryOfCitizenship  ... cpi_change_country           gdp_country  \\\n",
       "0               France  ...                1.1   $2,715,518,274,227    \n",
       "1        United States  ...                7.5  $21,427,700,000,000    \n",
       "2        United States  ...                7.5  $21,427,700,000,000    \n",
       "3        United States  ...                7.5  $21,427,700,000,000    \n",
       "4        United States  ...                7.5  $21,427,700,000,000    \n",
       "\n",
       "  gross_tertiary_education_enrollment  \\\n",
       "0                                65.6   \n",
       "1                                88.2   \n",
       "2                                88.2   \n",
       "3                                88.2   \n",
       "4                                88.2   \n",
       "\n",
       "  gross_primary_education_enrollment_country life_expectancy_country  \\\n",
       "0                                      102.5                    82.5   \n",
       "1                                      101.8                    78.5   \n",
       "2                                      101.8                    78.5   \n",
       "3                                      101.8                    78.5   \n",
       "4                                      101.8                    78.5   \n",
       "\n",
       "  tax_revenue_country_country total_tax_rate_country population_country  \\\n",
       "0                        24.2                   60.7         67059887.0   \n",
       "1                         9.6                   36.6        328239523.0   \n",
       "2                         9.6                   36.6        328239523.0   \n",
       "3                         9.6                   36.6        328239523.0   \n",
       "4                         9.6                   36.6        328239523.0   \n",
       "\n",
       "  latitude_country longitude_country  \n",
       "0        46.227638          2.213749  \n",
       "1        37.090240        -95.712891  \n",
       "2        37.090240        -95.712891  \n",
       "3        37.090240        -95.712891  \n",
       "4        37.090240        -95.712891  \n",
       "\n",
       "[5 rows x 35 columns]"
      ]
     },
     "execution_count": 2,
     "metadata": {},
     "output_type": "execute_result"
    }
   ],
   "source": [
    "import pandas as pd \n",
    "df = pd.read_csv(\"../data/raw/Billionaires Statistics Dataset.csv\")\n",
    "print(df['selfMade'])\n",
    "df.head()"
   ]
  },
  {
   "cell_type": "markdown",
   "id": "cc800290",
   "metadata": {},
   "source": [
    "# Distribuzione ricchezza"
   ]
  },
  {
   "cell_type": "code",
   "execution_count": 3,
   "id": "0e8b424e",
   "metadata": {},
   "outputs": [
    {
     "data": {
      "application/vnd.plotly.v1+json": {
       "config": {
        "plotlyServerURL": "https://plot.ly"
       },
       "data": [
        {
         "lat": {
          "bdata": "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",
          "dtype": "f8"
         },
         "lon": {
          "bdata": "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",
          "dtype": "f8"
         },
         "marker": {
          "color": {
           "bdata": "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",
           "dtype": "i4"
          },
          "colorbar": {
           "title": {
            "text": "Final Worth"
           }
          },
          "colorscale": [
           [
            0,
            "rgb(150,0,90)"
           ],
           [
            0.125,
            "rgb(0,0,200)"
           ],
           [
            0.25,
            "rgb(0,25,255)"
           ],
           [
            0.375,
            "rgb(0,152,255)"
           ],
           [
            0.5,
            "rgb(44,255,150)"
           ],
           [
            0.625,
            "rgb(151,255,0)"
           ],
           [
            0.75,
            "rgb(255,234,0)"
           ],
           [
            0.875,
            "rgb(255,111,0)"
           ],
           [
            1,
            "rgb(255,0,0)"
           ]
          ],
          "opacity": 0.7,
          "size": 8
         },
         "mode": "markers",
         "type": "scattergeo"
        }
       ],
       "layout": {
        "geo": {
         "projection": {
          "type": "natural earth"
         }
        },
        "template": {
         "data": {
          "bar": [
           {
            "error_x": {
             "color": "#2a3f5f"
            },
            "error_y": {
             "color": "#2a3f5f"
            },
            "marker": {
             "line": {
              "color": "#E5ECF6",
              "width": 0.5
             },
             "pattern": {
              "fillmode": "overlay",
              "size": 10,
              "solidity": 0.2
             }
            },
            "type": "bar"
           }
          ],
          "barpolar": [
           {
            "marker": {
             "line": {
              "color": "#E5ECF6",
              "width": 0.5
             },
             "pattern": {
              "fillmode": "overlay",
              "size": 10,
              "solidity": 0.2
             }
            },
            "type": "barpolar"
           }
          ],
          "carpet": [
           {
            "aaxis": {
             "endlinecolor": "#2a3f5f",
             "gridcolor": "white",
             "linecolor": "white",
             "minorgridcolor": "white",
             "startlinecolor": "#2a3f5f"
            },
            "baxis": {
             "endlinecolor": "#2a3f5f",
             "gridcolor": "white",
             "linecolor": "white",
             "minorgridcolor": "white",
             "startlinecolor": "#2a3f5f"
            },
            "type": "carpet"
           }
          ],
          "choropleth": [
           {
            "colorbar": {
             "outlinewidth": 0,
             "ticks": ""
            },
            "type": "choropleth"
           }
          ],
          "contour": [
           {
            "colorbar": {
             "outlinewidth": 0,
             "ticks": ""
            },
            "colorscale": [
             [
              0,
              "#0d0887"
             ],
             [
              0.1111111111111111,
              "#46039f"
             ],
             [
              0.2222222222222222,
              "#7201a8"
             ],
             [
              0.3333333333333333,
              "#9c179e"
             ],
             [
              0.4444444444444444,
              "#bd3786"
             ],
             [
              0.5555555555555556,
              "#d8576b"
             ],
             [
              0.6666666666666666,
              "#ed7953"
             ],
             [
              0.7777777777777778,
              "#fb9f3a"
             ],
             [
              0.8888888888888888,
              "#fdca26"
             ],
             [
              1,
              "#f0f921"
             ]
            ],
            "type": "contour"
           }
          ],
          "contourcarpet": [
           {
            "colorbar": {
             "outlinewidth": 0,
             "ticks": ""
            },
            "type": "contourcarpet"
           }
          ],
          "heatmap": [
           {
            "colorbar": {
             "outlinewidth": 0,
             "ticks": ""
            },
            "colorscale": [
             [
              0,
              "#0d0887"
             ],
             [
              0.1111111111111111,
              "#46039f"
             ],
             [
              0.2222222222222222,
              "#7201a8"
             ],
             [
              0.3333333333333333,
              "#9c179e"
             ],
             [
              0.4444444444444444,
              "#bd3786"
             ],
             [
              0.5555555555555556,
              "#d8576b"
             ],
             [
              0.6666666666666666,
              "#ed7953"
             ],
             [
              0.7777777777777778,
              "#fb9f3a"
             ],
             [
              0.8888888888888888,
              "#fdca26"
             ],
             [
              1,
              "#f0f921"
             ]
            ],
            "type": "heatmap"
           }
          ],
          "histogram": [
           {
            "marker": {
             "pattern": {
              "fillmode": "overlay",
              "size": 10,
              "solidity": 0.2
             }
            },
            "type": "histogram"
           }
          ],
          "histogram2d": [
           {
            "colorbar": {
             "outlinewidth": 0,
             "ticks": ""
            },
            "colorscale": [
             [
              0,
              "#0d0887"
             ],
             [
              0.1111111111111111,
              "#46039f"
             ],
             [
              0.2222222222222222,
              "#7201a8"
             ],
             [
              0.3333333333333333,
              "#9c179e"
             ],
             [
              0.4444444444444444,
              "#bd3786"
             ],
             [
              0.5555555555555556,
              "#d8576b"
             ],
             [
              0.6666666666666666,
              "#ed7953"
             ],
             [
              0.7777777777777778,
              "#fb9f3a"
             ],
             [
              0.8888888888888888,
              "#fdca26"
             ],
             [
              1,
              "#f0f921"
             ]
            ],
            "type": "histogram2d"
           }
          ],
          "histogram2dcontour": [
           {
            "colorbar": {
             "outlinewidth": 0,
             "ticks": ""
            },
            "colorscale": [
             [
              0,
              "#0d0887"
             ],
             [
              0.1111111111111111,
              "#46039f"
             ],
             [
              0.2222222222222222,
              "#7201a8"
             ],
             [
              0.3333333333333333,
              "#9c179e"
             ],
             [
              0.4444444444444444,
              "#bd3786"
             ],
             [
              0.5555555555555556,
              "#d8576b"
             ],
             [
              0.6666666666666666,
              "#ed7953"
             ],
             [
              0.7777777777777778,
              "#fb9f3a"
             ],
             [
              0.8888888888888888,
              "#fdca26"
             ],
             [
              1,
              "#f0f921"
             ]
            ],
            "type": "histogram2dcontour"
           }
          ],
          "mesh3d": [
           {
            "colorbar": {
             "outlinewidth": 0,
             "ticks": ""
            },
            "type": "mesh3d"
           }
          ],
          "parcoords": [
           {
            "line": {
             "colorbar": {
              "outlinewidth": 0,
              "ticks": ""
             }
            },
            "type": "parcoords"
           }
          ],
          "pie": [
           {
            "automargin": true,
            "type": "pie"
           }
          ],
          "scatter": [
           {
            "fillpattern": {
             "fillmode": "overlay",
             "size": 10,
             "solidity": 0.2
            },
            "type": "scatter"
           }
          ],
          "scatter3d": [
           {
            "line": {
             "colorbar": {
              "outlinewidth": 0,
              "ticks": ""
             }
            },
            "marker": {
             "colorbar": {
              "outlinewidth": 0,
              "ticks": ""
             }
            },
            "type": "scatter3d"
           }
          ],
          "scattercarpet": [
           {
            "marker": {
             "colorbar": {
              "outlinewidth": 0,
              "ticks": ""
             }
            },
            "type": "scattercarpet"
           }
          ],
          "scattergeo": [
           {
            "marker": {
             "colorbar": {
              "outlinewidth": 0,
              "ticks": ""
             }
            },
            "type": "scattergeo"
           }
          ],
          "scattergl": [
           {
            "marker": {
             "colorbar": {
              "outlinewidth": 0,
              "ticks": ""
             }
            },
            "type": "scattergl"
           }
          ],
          "scattermap": [
           {
            "marker": {
             "colorbar": {
              "outlinewidth": 0,
              "ticks": ""
             }
            },
            "type": "scattermap"
           }
          ],
          "scattermapbox": [
           {
            "marker": {
             "colorbar": {
              "outlinewidth": 0,
              "ticks": ""
             }
            },
            "type": "scattermapbox"
           }
          ],
          "scatterpolar": [
           {
            "marker": {
             "colorbar": {
              "outlinewidth": 0,
              "ticks": ""
             }
            },
            "type": "scatterpolar"
           }
          ],
          "scatterpolargl": [
           {
            "marker": {
             "colorbar": {
              "outlinewidth": 0,
              "ticks": ""
             }
            },
            "type": "scatterpolargl"
           }
          ],
          "scatterternary": [
           {
            "marker": {
             "colorbar": {
              "outlinewidth": 0,
              "ticks": ""
             }
            },
            "type": "scatterternary"
           }
          ],
          "surface": [
           {
            "colorbar": {
             "outlinewidth": 0,
             "ticks": ""
            },
            "colorscale": [
             [
              0,
              "#0d0887"
             ],
             [
              0.1111111111111111,
              "#46039f"
             ],
             [
              0.2222222222222222,
              "#7201a8"
             ],
             [
              0.3333333333333333,
              "#9c179e"
             ],
             [
              0.4444444444444444,
              "#bd3786"
             ],
             [
              0.5555555555555556,
              "#d8576b"
             ],
             [
              0.6666666666666666,
              "#ed7953"
             ],
             [
              0.7777777777777778,
              "#fb9f3a"
             ],
             [
              0.8888888888888888,
              "#fdca26"
             ],
             [
              1,
              "#f0f921"
             ]
            ],
            "type": "surface"
           }
          ],
          "table": [
           {
            "cells": {
             "fill": {
              "color": "#EBF0F8"
             },
             "line": {
              "color": "white"
             }
            },
            "header": {
             "fill": {
              "color": "#C8D4E3"
             },
             "line": {
              "color": "white"
             }
            },
            "type": "table"
           }
          ]
         },
         "layout": {
          "annotationdefaults": {
           "arrowcolor": "#2a3f5f",
           "arrowhead": 0,
           "arrowwidth": 1
          },
          "autotypenumbers": "strict",
          "coloraxis": {
           "colorbar": {
            "outlinewidth": 0,
            "ticks": ""
           }
          },
          "colorscale": {
           "diverging": [
            [
             0,
             "#8e0152"
            ],
            [
             0.1,
             "#c51b7d"
            ],
            [
             0.2,
             "#de77ae"
            ],
            [
             0.3,
             "#f1b6da"
            ],
            [
             0.4,
             "#fde0ef"
            ],
            [
             0.5,
             "#f7f7f7"
            ],
            [
             0.6,
             "#e6f5d0"
            ],
            [
             0.7,
             "#b8e186"
            ],
            [
             0.8,
             "#7fbc41"
            ],
            [
             0.9,
             "#4d9221"
            ],
            [
             1,
             "#276419"
            ]
           ],
           "sequential": [
            [
             0,
             "#0d0887"
            ],
            [
             0.1111111111111111,
             "#46039f"
            ],
            [
             0.2222222222222222,
             "#7201a8"
            ],
            [
             0.3333333333333333,
             "#9c179e"
            ],
            [
             0.4444444444444444,
             "#bd3786"
            ],
            [
             0.5555555555555556,
             "#d8576b"
            ],
            [
             0.6666666666666666,
             "#ed7953"
            ],
            [
             0.7777777777777778,
             "#fb9f3a"
            ],
            [
             0.8888888888888888,
             "#fdca26"
            ],
            [
             1,
             "#f0f921"
            ]
           ],
           "sequentialminus": [
            [
             0,
             "#0d0887"
            ],
            [
             0.1111111111111111,
             "#46039f"
            ],
            [
             0.2222222222222222,
             "#7201a8"
            ],
            [
             0.3333333333333333,
             "#9c179e"
            ],
            [
             0.4444444444444444,
             "#bd3786"
            ],
            [
             0.5555555555555556,
             "#d8576b"
            ],
            [
             0.6666666666666666,
             "#ed7953"
            ],
            [
             0.7777777777777778,
             "#fb9f3a"
            ],
            [
             0.8888888888888888,
             "#fdca26"
            ],
            [
             1,
             "#f0f921"
            ]
           ]
          },
          "colorway": [
           "#636efa",
           "#EF553B",
           "#00cc96",
           "#ab63fa",
           "#FFA15A",
           "#19d3f3",
           "#FF6692",
           "#B6E880",
           "#FF97FF",
           "#FECB52"
          ],
          "font": {
           "color": "#2a3f5f"
          },
          "geo": {
           "bgcolor": "white",
           "lakecolor": "white",
           "landcolor": "#E5ECF6",
           "showlakes": true,
           "showland": true,
           "subunitcolor": "white"
          },
          "hoverlabel": {
           "align": "left"
          },
          "hovermode": "closest",
          "mapbox": {
           "style": "light"
          },
          "paper_bgcolor": "white",
          "plot_bgcolor": "#E5ECF6",
          "polar": {
           "angularaxis": {
            "gridcolor": "white",
            "linecolor": "white",
            "ticks": ""
           },
           "bgcolor": "#E5ECF6",
           "radialaxis": {
            "gridcolor": "white",
            "linecolor": "white",
            "ticks": ""
           }
          },
          "scene": {
           "xaxis": {
            "backgroundcolor": "#E5ECF6",
            "gridcolor": "white",
            "gridwidth": 2,
            "linecolor": "white",
            "showbackground": true,
            "ticks": "",
            "zerolinecolor": "white"
           },
           "yaxis": {
            "backgroundcolor": "#E5ECF6",
            "gridcolor": "white",
            "gridwidth": 2,
            "linecolor": "white",
            "showbackground": true,
            "ticks": "",
            "zerolinecolor": "white"
           },
           "zaxis": {
            "backgroundcolor": "#E5ECF6",
            "gridcolor": "white",
            "gridwidth": 2,
            "linecolor": "white",
            "showbackground": true,
            "ticks": "",
            "zerolinecolor": "white"
           }
          },
          "shapedefaults": {
           "line": {
            "color": "#2a3f5f"
           }
          },
          "ternary": {
           "aaxis": {
            "gridcolor": "white",
            "linecolor": "white",
            "ticks": ""
           },
           "baxis": {
            "gridcolor": "white",
            "linecolor": "white",
            "ticks": ""
           },
           "bgcolor": "#E5ECF6",
           "caxis": {
            "gridcolor": "white",
            "linecolor": "white",
            "ticks": ""
           }
          },
          "title": {
           "x": 0.05
          },
          "xaxis": {
           "automargin": true,
           "gridcolor": "white",
           "linecolor": "white",
           "ticks": "",
           "title": {
            "standoff": 15
           },
           "zerolinecolor": "white",
           "zerolinewidth": 2
          },
          "yaxis": {
           "automargin": true,
           "gridcolor": "white",
           "linecolor": "white",
           "ticks": "",
           "title": {
            "standoff": 15
           },
           "zerolinecolor": "white",
           "zerolinewidth": 2
          }
         }
        },
        "title": {
         "text": "Distribuzione della ricchezza miliardaria sulla mappa del mondo"
        }
       }
      }
     },
     "metadata": {},
     "output_type": "display_data"
    }
   ],
   "source": [
    "import numpy as np\n",
    "import matplotlib.pyplot as plt\n",
    "import seaborn as sns\n",
    "import plotly.graph_objects as go\n",
    "\n",
    "fig1 = go.Figure(data = go.Scattergeo(\n",
    "    lon = df['longitude_country'],\n",
    "    lat = df['latitude_country'],\n",
    "    mode = 'markers',\n",
    "    marker = dict(\n",
    "        size = 8, \n",
    "        opacity = .7,\n",
    "        color = df['finalWorth'],\n",
    "        colorscale = 'Rainbow',\n",
    "        colorbar = dict(title = 'Final Worth')\n",
    "    )\n",
    "))\n",
    "fig1.update_geos(projection_type = 'natural earth')\n",
    "fig1.update_layout(title = 'Distribuzione della ricchezza miliardaria sulla mappa del mondo')\n",
    "fig1.write_image(\"../results/mappa_ricchezza.png\")\n",
    "fig1.show()"
   ]
  }
 ],
 "metadata": {
  "kernelspec": {
   "display_name": ".venv",
   "language": "python",
   "name": "python3"
  },
  "language_info": {
   "codemirror_mode": {
    "name": "ipython",
    "version": 3
   },
   "file_extension": ".py",
   "mimetype": "text/x-python",
   "name": "python",
   "nbconvert_exporter": "python",
   "pygments_lexer": "ipython3",
   "version": "3.10.0"
  }
 },
 "nbformat": 4,
 "nbformat_minor": 5
}
