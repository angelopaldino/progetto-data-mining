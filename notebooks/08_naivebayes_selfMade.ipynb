{
 "cells": [
  {
   "cell_type": "markdown",
   "id": "74d29508",
   "metadata": {},
   "source": [
    "# Classificazione Binaria: `selfMade` con naive bayes"
   ]
  },
  {
   "cell_type": "code",
   "execution_count": 1,
   "id": "92b7473a",
   "metadata": {},
   "outputs": [],
   "source": [
    "import numpy as np\n",
    "import pandas as pd\n",
    "from sklearn.neighbors import KNeighborsClassifier\n",
    "from sklearn.metrics import accuracy_score, precision_score, recall_score, f1_score, confusion_matrix\n",
    "from sklearn.preprocessing import StandardScaler\n",
    "import os\n",
    "import sys\n",
    "sys.path.append('../Scripts')\n",
    "from utility import evaluate_and_save_model\n",
    "\n",
    "X_train = pd.read_csv(\"../data/splitted/X_train.csv\")\n",
    "X_test = pd.read_csv(\"../data/splitted/X_test.csv\")\n",
    "y_train = pd.read_csv(\"../data/splitted/y_train.csv\").values.ravel()\n",
    "y_test = pd.read_csv(\"../data/splitted/y_test.csv\").values.ravel()\n",
    "\n",
    "\n",
    "# Rimozione colonne inutili o problematiche\n",
    "X_train = X_train.drop(columns=['source'], errors='ignore')  # elimino colonna tutta NaN\n",
    "X_train = X_train.loc[:, X_train.nunique() > 1]  # elimino colonne costanti\n",
    "\n",
    "# Allineamento test set\n",
    "X_test = X_test[X_train.columns]\n",
    "\n",
    "# Riempio NaN residui con la mediana\n",
    "X_train = X_train.fillna(X_train.median())\n",
    "X_test = X_test.fillna(X_train.median())"
   ]
  },
  {
   "cell_type": "code",
   "execution_count": 2,
   "id": "8ce164e5",
   "metadata": {},
   "outputs": [],
   "source": [
    "from sklearn.naive_bayes import GaussianNB\n",
    "\n",
    "\n",
    "scaler = StandardScaler()\n",
    "X_train_scaled = scaler.fit_transform(X_train)\n",
    "X_test_scaled = scaler.transform(X_test)\n",
    "\n",
    "# Modello Naive Bayes\n",
    "model = GaussianNB()\n",
    "model.fit(X_train_scaled, y_train)\n",
    "\n",
    "# Predizioni\n",
    "y_pred_train = model.predict(X_train_scaled)\n",
    "y_pred_test = model.predict(X_test_scaled)"
   ]
  },
  {
   "cell_type": "code",
   "execution_count": 3,
   "id": "f2a37ce4",
   "metadata": {},
   "outputs": [],
   "source": [
    "evaluate_and_save_model(\n",
    "    model,\n",
    "    \"naive bayes\",\n",
    "    y_train,\n",
    "    y_pred_train,\n",
    "    y_test,\n",
    "    y_pred_test,\n",
    "    \"../results/classification_selfMade/naive_bayes\",\n",
    "    \"../models/naive_bayes_selfmade.joblib\"\n",
    ")"
   ]
  }
 ],
 "metadata": {
  "kernelspec": {
   "display_name": ".venv",
   "language": "python",
   "name": "python3"
  },
  "language_info": {
   "codemirror_mode": {
    "name": "ipython",
    "version": 3
   },
   "file_extension": ".py",
   "mimetype": "text/x-python",
   "name": "python",
   "nbconvert_exporter": "python",
   "pygments_lexer": "ipython3",
   "version": "3.10.0"
  }
 },
 "nbformat": 4,
 "nbformat_minor": 5
}
