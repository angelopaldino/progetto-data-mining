{
 "cells": [
  {
   "cell_type": "code",
   "execution_count": 4,
   "id": "36c026c6",
   "metadata": {},
   "outputs": [],
   "source": [
    "import joblib\n",
    "model_path = \"../models/decisiontree_selfmade_gridsearch_final.joblib\"\n",
    "model = joblib.load(model_path)"
   ]
  },
  {
   "cell_type": "code",
   "execution_count": 5,
   "id": "ad3613c1",
   "metadata": {},
   "outputs": [],
   "source": [
    "import pandas as pd\n",
    "import numpy as np\n",
    "from sklearn.tree import DecisionTreeClassifier, export_text\n",
    "from sklearn.metrics import accuracy_score, precision_score, recall_score, f1_score, confusion_matrix\n",
    "import os\n",
    "import sys\n",
    "sys.path.append('../Scripts')\n",
    "from utility import evaluate_and_save_model\n",
    "\n",
    "X_train = pd.read_csv(\"../data/splitted/X_train.csv\")\n",
    "X_test = pd.read_csv(\"../data/splitted/X_test.csv\")\n",
    "y_train = pd.read_csv(\"../data/splitted/y_train.csv\").values.ravel()\n",
    "y_test = pd.read_csv(\"../data/splitted/y_test.csv\").values.ravel()"
   ]
  },
  {
   "cell_type": "code",
   "execution_count": 9,
   "id": "619a647a",
   "metadata": {},
   "outputs": [],
   "source": [
    "y_pred_train = model.predict(X_train)\n",
    "y_pred_test = model.predict(X_test)\n",
    "\n",
    "\n",
    "\n",
    "evaluate_and_save_model(\n",
    "    model,\n",
    "    \"rule based indirect\",\n",
    "    y_train,\n",
    "    y_pred_train,\n",
    "    y_test,\n",
    "    y_pred_test,\n",
    "    \"../results/classification_selfMade/rule_based/indirect\",\n",
    "    \"../models/indirect.joblib\"\n",
    ")    "
   ]
  },
  {
   "cell_type": "code",
   "execution_count": 11,
   "id": "85e2a88a",
   "metadata": {},
   "outputs": [],
   "source": [
    "# === Salvataggio delle regole apprese (metodo indiretto) ===\n",
    "from sklearn.tree import export_text\n",
    "\n",
    "tree_rules = export_text(model, feature_names=list(X_train.columns))\n",
    "\n",
    "with open(\"../results/classification_selfMade/rule_based/indirect/rules.txt\", \"w\") as f:\n",
    "    f.write(\"=== Decision Tree Rules (indiretto) ===\\n\\n\")\n",
    "    f.write(tree_rules)\n"
   ]
  }
 ],
 "metadata": {
  "kernelspec": {
   "display_name": ".venv",
   "language": "python",
   "name": "python3"
  },
  "language_info": {
   "codemirror_mode": {
    "name": "ipython",
    "version": 3
   },
   "file_extension": ".py",
   "mimetype": "text/x-python",
   "name": "python",
   "nbconvert_exporter": "python",
   "pygments_lexer": "ipython3",
   "version": "3.10.0"
  }
 },
 "nbformat": 4,
 "nbformat_minor": 5
}
