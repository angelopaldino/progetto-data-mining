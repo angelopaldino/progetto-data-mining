{
 "cells": [
  {
   "cell_type": "code",
   "execution_count": 1,
   "id": "694f7807",
   "metadata": {},
   "outputs": [],
   "source": [
    "import joblib\n",
    "\n",
    "# 🔹 Carica il modello già addestrato\n",
    "model_path = \"../models/decision_tree_selfmade_final.joblib\"\n",
    "model = joblib.load(model_path)\n"
   ]
  },
  {
   "cell_type": "code",
   "execution_count": 2,
   "id": "ad3613c1",
   "metadata": {},
   "outputs": [],
   "source": [
    "import pandas as pd\n",
    "import numpy as np\n",
    "from sklearn.tree import DecisionTreeClassifier, export_text\n",
    "from sklearn.metrics import accuracy_score, precision_score, recall_score, f1_score, confusion_matrix\n",
    "import os\n",
    "\n",
    "X_train = pd.read_csv(\"../data/splitted/X_train.csv\")\n",
    "X_test = pd.read_csv(\"../data/splitted/X_test.csv\")\n",
    "y_train = pd.read_csv(\"../data/splitted/y_train.csv\").values.ravel()\n",
    "y_test = pd.read_csv(\"../data/splitted/y_test.csv\").values.ravel()"
   ]
  },
  {
   "cell_type": "code",
   "execution_count": null,
   "id": "619a647a",
   "metadata": {},
   "outputs": [
    {
     "name": "stdout",
     "output_type": "stream",
     "text": [
      "✔ Regole e metriche salvate in: ../results/classification_selfMade/rule_based/indirect\\decision_tree_final_rules.txt\n"
     ]
    }
   ],
   "source": [
    "y_pred_train = model.predict(X_train)\n",
    "y_pred_test = model.predict(X_test)\n",
    "\n",
    "# Metriche\n",
    "train_metrics = {\n",
    "    \"Accuracy\": accuracy_score(y_train, y_pred_train),\n",
    "    \"Precision\": precision_score(y_train, y_pred_train),\n",
    "    \"Recall\": recall_score(y_train, y_pred_train),\n",
    "    \"F1-Score\": f1_score(y_train, y_pred_train)\n",
    "}\n",
    "test_metrics = {\n",
    "    \"Accuracy\": accuracy_score(y_test, y_pred_test),\n",
    "    \"Precision\": precision_score(y_test, y_pred_test),\n",
    "    \"Recall\": recall_score(y_test, y_pred_test),\n",
    "    \"F1-Score\": f1_score(y_test, y_pred_test)\n",
    "}\n",
    "\n",
    "#  Salvataggio risultati\n",
    "output_dir = \"../results/classification_selfMade/rule_based/indirect\"\n",
    "os.makedirs(output_dir, exist_ok=True)\n",
    "\n",
    "filename = os.path.join(output_dir, f\"decision_tree_final_rules.txt\")\n",
    "with open(filename, \"w\") as f:\n",
    "    f.write(f\"Modello: DecisionTreeClassifier (entropy, depth={5})\\n\\n\")\n",
    "    f.write(\"TRAIN METRICS:\\n\")\n",
    "    for k, v in train_metrics.items():\n",
    "        f.write(f\"{k}: {v:.4f}\\n\")\n",
    "    f.write(\"\\nTEST METRICS:\\n\")\n",
    "    for k, v in test_metrics.items():\n",
    "        f.write(f\"{k}: {v:.4f}\\n\")\n",
    "\n",
    "    # 🔍 Estrazione regole testuali\n",
    "    f.write(\"\\nREGOLE ESTRATTE:\\n\")\n",
    "    rules = export_text(model, feature_names=list(X_train.columns))\n",
    "    f.write(rules)\n",
    "\n",
    "print(f\"✔ Regole e metriche salvate in: {filename}\")"
   ]
  }
 ],
 "metadata": {
  "kernelspec": {
   "display_name": ".venv",
   "language": "python",
   "name": "python3"
  },
  "language_info": {
   "codemirror_mode": {
    "name": "ipython",
    "version": 3
   },
   "file_extension": ".py",
   "mimetype": "text/x-python",
   "name": "python",
   "nbconvert_exporter": "python",
   "pygments_lexer": "ipython3",
   "version": "3.10.0"
  }
 },
 "nbformat": 4,
 "nbformat_minor": 5
}
