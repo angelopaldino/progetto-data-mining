{
 "cells": [
  {
   "cell_type": "markdown",
   "id": "ab44bacc",
   "metadata": {},
   "source": [
    "# Classificazione multiclasse con tecnica ensemble Bagging\n",
    "In questo notebook viene utilizzata una tecnica di ensemble (Bagging) per migliorare le prestazioni del modello K-Nearest Neighbors (KNN).\n",
    "- Viene definito un classificatore KNN con k=9\n",
    "- n_estimators=10 10 modelli KNN\n",
    "- max_features=0.7 ogni modello vede solo il 70% delle feature\n",
    "\n",
    "Sono stati testati diversi modelli facendo variare questi parametri, i risultati ottenuti sono in ../results/classification_category.\n"
   ]
  },
  {
   "cell_type": "code",
   "execution_count": 1,
   "id": "6c1fe9b4",
   "metadata": {},
   "outputs": [],
   "source": [
    "import os\n",
    "from sklearn.ensemble import BaggingClassifier\n",
    "from sklearn.neighbors import KNeighborsClassifier\n",
    "from sklearn.preprocessing import StandardScaler\n",
    "from sklearn.metrics import accuracy_score, f1_score, precision_score, recall_score,classification_report, confusion_matrix\n",
    "import pandas as pd\n",
    "import joblib\n",
    "import sys\n",
    "sys.path.append('../Scripts')\n",
    "from utility import evaluate_and_save_model_multiclass\n",
    "\n",
    "\n",
    "X_train = pd.read_csv(\"../data/splitted_category/X_train.csv\")\n",
    "X_test = pd.read_csv(\"../data/splitted_category/X_test.csv\")\n",
    "y_train = pd.read_csv(\"../data/splitted_category/y_train.csv\").values.ravel()\n",
    "y_test = pd.read_csv(\"../data/splitted_category/y_test.csv\").values.ravel()  \n",
    "\n",
    "scaler = StandardScaler()\n",
    "X_train_scaled = scaler.fit_transform(X_train)\n",
    "X_test_scaled = scaler.transform(X_test)\n",
    "joblib.dump(scaler, \"../models/scaler_knn_category.joblib\")\n",
    "\n",
    "\n",
    "k=9\n",
    "max=0.7\n",
    "knn = KNeighborsClassifier(n_neighbors=k, weights='distance')\n",
    "\n",
    "bagging_model = BaggingClassifier(\n",
    "    estimator=knn,\n",
    "    n_estimators=10,\n",
    "    random_state=42,\n",
    "    max_features=max,\n",
    "    n_jobs=-1\n",
    ")\n",
    "bagging_model.fit(X_train_scaled, y_train)\n",
    "\n",
    "y_pred_train = bagging_model.predict(X_train_scaled)\n",
    "y_pred_test = bagging_model.predict(X_test_scaled)\n",
    "\n",
    "evaluate_and_save_model_multiclass(\n",
    "    bagging_model,\n",
    "    \"bagging model\",\n",
    "    y_train,\n",
    "    y_pred_train,\n",
    "    y_test,\n",
    "    y_pred_test,\n",
    "    \"../results/classification_category/knn\",\n",
    "    \"../models/bagging_model_category.joblib\",\n",
    "    {\"k\":k,\"max\":max}\n",
    ")\n"
   ]
  }
 ],
 "metadata": {
  "kernelspec": {
   "display_name": ".venv",
   "language": "python",
   "name": "python3"
  },
  "language_info": {
   "codemirror_mode": {
    "name": "ipython",
    "version": 3
   },
   "file_extension": ".py",
   "mimetype": "text/x-python",
   "name": "python",
   "nbconvert_exporter": "python",
   "pygments_lexer": "ipython3",
   "version": "3.10.0"
  }
 },
 "nbformat": 4,
 "nbformat_minor": 5
}
