{
 "cells": [
  {
   "cell_type": "code",
   "execution_count": null,
   "id": "41a473bc",
   "metadata": {},
   "outputs": [],
   "source": [
    "import pandas as pd\n",
    "from sklearn.model_selection import train_test_split\n",
    "import os\n",
    "\n",
    "# Percorsi\n",
    "INPUT_PATH = \"data/processed/billionaires_clean_numeric.csv\"\n",
    "OUTPUT_DIR = \"data/splitted\"\n",
    "os.makedirs(OUTPUT_DIR, exist_ok=True)\n",
    "\n",
    "# Caricamento dati\n",
    "df = pd.read_csv(INPUT_PATH)"
   ]
  },
  {
   "cell_type": "code",
   "execution_count": null,
   "id": "b8a98dcb",
   "metadata": {},
   "outputs": [],
   "source": [
    "# Selezione feature numeriche e categoriche\n",
    "numerical_cols = ['finalWorth', 'age', 'gdp_country', 'cpi_country',\n",
    "                  'life_expectancy_country', 'gross_tertiary_education_enrollment',\n",
    "                  'total_tax_rate_country', 'population_country']\n",
    "\n",
    "categorical_cols = ['country', 'category', 'industries', 'source']\n",
    "\n",
    "# Target\n",
    "target = 'selfMade'\n",
    "\n",
    "# Encoding variabili categoriche\n",
    "categorical_encoded = pd.get_dummies(df[categorical_cols], drop_first=True)\n",
    "\n",
    "# Costruzione del dataset finale\n",
    "X = pd.concat([df[numerical_cols], categorical_encoded], axis=1)\n",
    "y = df[target]"
   ]
  },
  {
   "cell_type": "code",
   "execution_count": null,
   "id": "b6343cb2",
   "metadata": {},
   "outputs": [],
   "source": [
    "# Split train/test con stratificazione\n",
    "X_train, X_test, y_train, y_test = train_test_split(\n",
    "    X, y, test_size=0.2, random_state=42, stratify=y\n",
    ")\n",
    "\n",
    "# Salvataggio dei dataset\n",
    "X_train.to_csv(os.path.join(OUTPUT_DIR, \"X_train.csv\"), index=False)\n",
    "X_test.to_csv(os.path.join(OUTPUT_DIR, \"X_test.csv\"), index=False)\n",
    "y_train.to_csv(os.path.join(OUTPUT_DIR, \"y_train.csv\"), index=False)\n",
    "y_test.to_csv(os.path.join(OUTPUT_DIR, \"y_test.csv\"), index=False)\n",
    "\n",
    "print(\"\\n✅ Dataset (completo) diviso e salvato in 'data/splitted/'\")\n"
   ]
  }
 ],
 "metadata": {
  "language_info": {
   "name": "python"
  }
 },
 "nbformat": 4,
 "nbformat_minor": 5
}
