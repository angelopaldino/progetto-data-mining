{
 "cells": [
  {
   "cell_type": "markdown",
   "id": "5ec235b4",
   "metadata": {},
   "source": [
    "# Ensemble di MLPClassifier con Soft Voting\n",
    "In questo notebook si utilizza una tecnica ensemble per migliorare la robustezza dfel modello. Vengono addestrati più MLPClassifier con architettura identica e random state diversi e si aggregano le predizioni tramite media delle probabilità.\n"
   ]
  },
  {
   "cell_type": "code",
   "execution_count": 1,
   "id": "6dd7b3db",
   "metadata": {},
   "outputs": [],
   "source": [
    "import pandas as pd\n",
    "import numpy as np\n",
    "from sklearn.neural_network import MLPClassifier\n",
    "from sklearn.preprocessing import StandardScaler\n",
    "from sklearn.metrics import accuracy_score, precision_score, recall_score, f1_score, confusion_matrix\n",
    "import os\n",
    "from imblearn.over_sampling import SMOTE\n",
    "import sys\n",
    "sys.path.append('../Scripts')\n",
    "from utility import evaluate_and_save_model_multiclass\n",
    "\n",
    "X_train = pd.read_csv(\"../data/splitted_category/X_train.csv\")\n",
    "X_test = pd.read_csv(\"../data/splitted_category/X_test.csv\")\n",
    "y_train = pd.read_csv(\"../data/splitted_category/y_train.csv\").values.ravel()\n",
    "y_test = pd.read_csv(\"../data/splitted_category/y_test.csv\").values.ravel()  \n",
    "\n",
    "scaler = StandardScaler()\n",
    "X_train_scaled = scaler.fit_transform(X_train)\n",
    "X_test_scaled = scaler.transform(X_test)\n",
    "\n",
    "\n",
    "\n",
    "seeds = [1, 42, 99]\n",
    "mlps = []\n",
    "\n",
    "for seed in seeds:\n",
    "    mlp = MLPClassifier(\n",
    "        hidden_layer_sizes=(64, 32),\n",
    "        activation='relu',\n",
    "        solver='adam',\n",
    "        alpha=0.05,\n",
    "        learning_rate='adaptive',\n",
    "        max_iter=300,\n",
    "        early_stopping=True,\n",
    "        validation_fraction=0.2,\n",
    "        random_state=seed\n",
    "    )\n",
    "    mlp.fit(X_train_scaled, y_train)\n",
    "    mlps.append(mlp)\n",
    "\n",
    "\n",
    "# === Media delle probabilità (Soft Voting) TRAIN \n",
    "probas_train = np.array([model.predict_proba(X_train_scaled) for model in mlps])\n",
    "avg_probas_train = np.mean(probas_train, axis=0)\n",
    "y_pred_train_ensemble = np.argmax(avg_probas_train, axis=1)\n",
    "\n",
    "# === Media delle probabilità (Soft Voting) TEST\n",
    "probas = np.array([model.predict_proba(X_test_scaled) for model in mlps])\n",
    "avg_probas = np.mean(probas, axis=0)\n",
    "y_pred_ensemble = np.argmax(avg_probas, axis=1)\n",
    "\n",
    "evaluate_and_save_model_multiclass(\n",
    "    mlp,\n",
    "    \"mlps e media delle probabilità\",\n",
    "    y_train,\n",
    "    y_pred_train_ensemble,\n",
    "    y_test,\n",
    "    y_pred_ensemble,\n",
    "    \"../results/classification_category/ann\",\n",
    "    \"../models/ann_ensemble.joblib\",\n",
    "    {\"hidden layer\":(64,32),\"activation\":\"relu\",\"solver\":\"adam\",\"learning rate\":\"adaptive\",\"alpha\":0.05,\"media modelli\":\"3 modelli mlp\"}\n",
    ")\n"
   ]
  }
 ],
 "metadata": {
  "kernelspec": {
   "display_name": ".venv",
   "language": "python",
   "name": "python3"
  },
  "language_info": {
   "codemirror_mode": {
    "name": "ipython",
    "version": 3
   },
   "file_extension": ".py",
   "mimetype": "text/x-python",
   "name": "python",
   "nbconvert_exporter": "python",
   "pygments_lexer": "ipython3",
   "version": "3.10.0"
  }
 },
 "nbformat": 4,
 "nbformat_minor": 5
}
