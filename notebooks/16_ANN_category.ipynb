{
 "cells": [
  {
   "cell_type": "markdown",
   "id": "82f1c3c2",
   "metadata": {},
   "source": [
    "# Classificazione multiclasse: category con ANN\n",
    "Viene utilizzata una MLP(multi layer perceptron) con due hidden layer. Sono state testate diverse combinazioni di parametri, i cui risultati sono nella cartella ../results/classification_category/ann"
   ]
  },
  {
   "cell_type": "code",
   "execution_count": 2,
   "id": "33bfeb4f",
   "metadata": {},
   "outputs": [],
   "source": [
    "import pandas as pd\n",
    "import numpy as np\n",
    "from sklearn.neural_network import MLPClassifier\n",
    "from sklearn.preprocessing import StandardScaler\n",
    "from sklearn.metrics import accuracy_score, precision_score, recall_score, f1_score, confusion_matrix\n",
    "import os\n",
    "import joblib\n",
    "import sys\n",
    "sys.path.append('../Scripts')\n",
    "from utility import evaluate_and_save_model_multiclass\n",
    "\n",
    "X_train = pd.read_csv(\"../data/splitted_category/X_train.csv\")\n",
    "X_test = pd.read_csv(\"../data/splitted_category/X_test.csv\")\n",
    "y_train = pd.read_csv(\"../data/splitted_category/y_train.csv\").values.ravel()\n",
    "y_test = pd.read_csv(\"../data/splitted_category/y_test.csv\").values.ravel()  \n",
    "\n",
    "\n",
    "\n",
    "scaler = StandardScaler()\n",
    "X_train_scaled = scaler.fit_transform(X_train)\n",
    "X_test_scaled = scaler.transform(X_test)\n",
    "joblib.dump(scaler, \"../models/scaler_ann_category.joblib\")\n",
    "\n",
    "\n",
    "mlp = MLPClassifier(\n",
    "    hidden_layer_sizes=(64, 32),         \n",
    "    activation='relu',                    \n",
    "    solver='adam',                        \n",
    "    alpha=0.05,                         \n",
    "    learning_rate='adaptive',            \n",
    "    max_iter=300,                          \n",
    "    early_stopping=True,                  \n",
    "    validation_fraction=0.2,              \n",
    "    random_state=42\n",
    ")\n",
    "\n",
    "mlp.fit(X_train_scaled, y_train)\n",
    "\n",
    "y_pred_train = mlp.predict(X_train_scaled)\n",
    "y_pred_test = mlp.predict(X_test_scaled)\n",
    "\n",
    "evaluate_and_save_model_multiclass(\n",
    "    mlp,\n",
    "    \"ANN\",\n",
    "    y_train,\n",
    "    y_pred_train,\n",
    "    y_test,\n",
    "    y_pred_test,\n",
    "    \"../results/classification_category/ann\",\n",
    "    \"../models/ann_category.joblib\",\n",
    "    {\"hidden layer\":(64,32),\"activation\":\"relu\",\"alpha\": 0.05,\"solver\": \"adam\"}\n",
    ")"
   ]
  }
 ],
 "metadata": {
  "kernelspec": {
   "display_name": ".venv",
   "language": "python",
   "name": "python3"
  },
  "language_info": {
   "codemirror_mode": {
    "name": "ipython",
    "version": 3
   },
   "file_extension": ".py",
   "mimetype": "text/x-python",
   "name": "python",
   "nbconvert_exporter": "python",
   "pygments_lexer": "ipython3",
   "version": "3.10.0"
  }
 },
 "nbformat": 4,
 "nbformat_minor": 5
}
