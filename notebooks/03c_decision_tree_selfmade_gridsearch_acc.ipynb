{
 "cells": [
  {
   "cell_type": "markdown",
   "id": "ed28cf81",
   "metadata": {},
   "source": [
    "# Decision Tree con GridSearchCV\n",
    "\n",
    "Questo notebook ottimizza un modello Decision Tree sui dati `selfMade` usando GridSearchCV su diversi valori di `max_depth` e criteri di split (`gini`, `entropy`)."
   ]
  },
  {
   "cell_type": "code",
   "execution_count": 15,
   "id": "8c0785ad",
   "metadata": {},
   "outputs": [],
   "source": [
    "import pandas as pd\n",
    "\n",
    "X_train = pd.read_csv(\"../data/splitted/X_train.csv\")\n",
    "X_test = pd.read_csv(\"../data/splitted/X_test.csv\")\n",
    "y_train = pd.read_csv(\"../data/splitted/y_train.csv\").values.ravel()\n",
    "y_test = pd.read_csv(\"../data/splitted/y_test.csv\").values.ravel()"
   ]
  },
  {
   "cell_type": "code",
   "execution_count": 16,
   "id": "96888fd4",
   "metadata": {},
   "outputs": [
    {
     "name": "stdout",
     "output_type": "stream",
     "text": [
      "Migliori parametri trovati: {'criterion': 'entropy', 'max_depth': 9}\n"
     ]
    }
   ],
   "source": [
    "from sklearn.tree import DecisionTreeClassifier\n",
    "from sklearn.model_selection import GridSearchCV\n",
    "\n",
    "param_grid = {\n",
    "    'max_depth': list(range(2, 20)),\n",
    "    'criterion': ['gini', 'entropy']\n",
    "}\n",
    "\n",
    "scoring = {\n",
    "    'accuracy': 'accuracy',\n",
    "    'precision': 'precision',\n",
    "    'recall': 'recall',\n",
    "    'f1': 'f1'\n",
    "}\n",
    "\n",
    "clf = DecisionTreeClassifier(random_state=42)\n",
    "grid_search = GridSearchCV(clf, param_grid, cv=5, scoring=scoring, refit='accuracy', n_jobs=-1)\n",
    "grid_search.fit(X_train, y_train)\n",
    "\n",
    "print(\"Migliori parametri trovati:\", grid_search.best_params_)"
   ]
  },
  {
   "cell_type": "code",
   "execution_count": 17,
   "id": "62968b2f",
   "metadata": {},
   "outputs": [
    {
     "name": "stdout",
     "output_type": "stream",
     "text": [
      "Accuracy: 0.7274\n",
      "Precision: 0.7494\n",
      "Recall: 0.9114\n",
      "F1-score: 0.8225\n",
      "\n",
      "Confusion Matrix:\n",
      " [[ 50 110]\n",
      " [ 32 329]]\n",
      "\n",
      "Classification Report:\n",
      "               precision    recall  f1-score   support\n",
      "\n",
      "       False       0.61      0.31      0.41       160\n",
      "        True       0.75      0.91      0.82       361\n",
      "\n",
      "    accuracy                           0.73       521\n",
      "   macro avg       0.68      0.61      0.62       521\n",
      "weighted avg       0.71      0.73      0.70       521\n",
      "\n"
     ]
    }
   ],
   "source": [
    "from sklearn.metrics import accuracy_score, precision_score, recall_score, f1_score, confusion_matrix, classification_report\n",
    "\n",
    "best_model = grid_search.best_estimator_\n",
    "y_pred = best_model.predict(X_test)\n",
    "\n",
    "accuracy = accuracy_score(y_test, y_pred)\n",
    "precision = precision_score(y_test, y_pred)\n",
    "recall = recall_score(y_test, y_pred)\n",
    "f1 = f1_score(y_test, y_pred)\n",
    "cm = confusion_matrix(y_test, y_pred)\n",
    "report = classification_report(y_test, y_pred)\n",
    "\n",
    "print(f\"Accuracy: {accuracy:.4f}\")\n",
    "print(f\"Precision: {precision:.4f}\")\n",
    "print(f\"Recall: {recall:.4f}\")\n",
    "print(f\"F1-score: {f1:.4f}\")\n",
    "print(\"\\nConfusion Matrix:\\n\", cm)\n",
    "print(\"\\nClassification Report:\\n\", report)"
   ]
  },
  {
   "cell_type": "code",
   "execution_count": 18,
   "id": "a2724dc4",
   "metadata": {},
   "outputs": [
    {
     "data": {
      "text/plain": [
       "['../models/decision_tree_gridsearch_acc.joblib']"
      ]
     },
     "execution_count": 18,
     "metadata": {},
     "output_type": "execute_result"
    }
   ],
   "source": [
    "import os\n",
    "import joblib\n",
    "\n",
    "# Salvataggio metriche\n",
    "with open(os.path.join(\"../results/classification_selfMade/decision_tree/gridsearch\", \"metrics_gridsearch_acc.txt\"), \"w\") as f:\n",
    "    f.write(f\"Migliori parametri trovati (in base a accuracy): {grid_search.best_params_}\\n\\n\")\n",
    "    f.write(f\"Accuracy: {accuracy:.4f}\\n\")\n",
    "    f.write(f\"Precision: {precision:.4f}\\n\")\n",
    "    f.write(f\"Recall: {recall:.4f}\\n\")\n",
    "    f.write(f\"F1-Score: {f1:.4f}\\n\")\n",
    "    f.write(\"\\nClassification Report:\\n\")\n",
    "    f.write(report)\n",
    "    f.write(\"\\nConfusion Matrix:\\n\")\n",
    "    f.write(str(cm))\n",
    "joblib.dump(best_model, \"../models/decision_tree_gridsearch_acc.joblib\")    "
   ]
  },
  {
   "cell_type": "code",
   "execution_count": 19,
   "id": "c661120f",
   "metadata": {},
   "outputs": [],
   "source": [
    "import matplotlib.pyplot as plt\n",
    "from sklearn.tree import plot_tree\n",
    "\n",
    "# Salvataggio immagine dell'albero (solo preview max_depth=3)\n",
    "plt.figure(figsize=(20, 10))\n",
    "plot_tree(best_model, filled=True, max_depth=3, feature_names=X_train.columns, class_names=[\"False\", \"True\"])\n",
    "plt.savefig(os.path.join(\"../results/classification_selfMade/decision_tree/gridsearch\", \"decision_tree_grid_preview_acc.png\"))\n",
    "plt.close()"
   ]
  },
  {
   "cell_type": "code",
   "execution_count": 20,
   "id": "02b7b3c0",
   "metadata": {},
   "outputs": [],
   "source": [
    "import pandas as pd\n",
    "import matplotlib.pyplot as plt\n",
    "\n",
    "results_df = pd.DataFrame(grid_search.cv_results_)\n",
    "\n",
    "plt.figure(figsize=(10, 6))\n",
    "for criterion in results_df[\"param_criterion\"].unique():\n",
    "    subset = results_df[results_df[\"param_criterion\"] == criterion]\n",
    "    plt.plot(subset[\"param_max_depth\"], subset[\"mean_test_accuracy\"], marker='o', label=criterion.capitalize())\n",
    "\n",
    "plt.title(\"Confronto accuracy medio: Gini vs Entropy\")\n",
    "plt.xlabel(\"max_depth\")\n",
    "plt.ylabel(\"Mean accuracy (cross-validation)\")\n",
    "plt.legend()\n",
    "plt.grid(True)\n",
    "plt.tight_layout()\n",
    "plt.savefig(\"../results/classification_selfMade/decision_tree/gridsearch/accuracy_comparison.png\")\n",
    "plt.close()"
   ]
  }
 ],
 "metadata": {
  "kernelspec": {
   "display_name": ".venv",
   "language": "python",
   "name": "python3"
  },
  "language_info": {
   "codemirror_mode": {
    "name": "ipython",
    "version": 3
   },
   "file_extension": ".py",
   "mimetype": "text/x-python",
   "name": "python",
   "nbconvert_exporter": "python",
   "pygments_lexer": "ipython3",
   "version": "3.10.0"
  }
 },
 "nbformat": 4,
 "nbformat_minor": 5
}
