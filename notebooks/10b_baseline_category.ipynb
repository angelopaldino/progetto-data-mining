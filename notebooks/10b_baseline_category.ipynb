{
 "cells": [
  {
   "cell_type": "markdown",
   "id": "fd4ed44c",
   "metadata": {},
   "source": [
    "# Baseline di confronto "
   ]
  },
  {
   "cell_type": "code",
   "execution_count": 5,
   "id": "801f929d",
   "metadata": {},
   "outputs": [
    {
     "name": "stdout",
     "output_type": "stream",
     "text": [
      "TEST METRICS:\n",
      "Accuracy: 0.0644\n",
      "Precision: 0.0633\n",
      "Recall: 0.0644\n",
      "F1-Score: 0.0637\n",
      "Confusion Matrix:\n",
      "[[ 0  0  4  0  4  1  2  0  0  0  2  0  0  3  0  0  6  0]\n",
      " [ 0  0  2  1  2  2  1  0  0  0  2  0  0  0  1  0  3  0]\n",
      " [ 0  1  4  5  7  8  2  0  6  0  8  2  1  2  1  0  9  0]\n",
      " [ 0  0  0  2  4  7  1  1  0  0  3  5  0  4  0  0  3  0]\n",
      " [ 5  1  9  2  9 10  4  0  3  0 10  1  7  6  3  2  7  1]\n",
      " [ 1  0  3  9  9  9 13  0  9  2 15  5  8 11  0  1 14  3]\n",
      " [ 1  1  1  3  9 12  7  0  5  1  6  3  1  6  0  0  7  1]\n",
      " [ 0  0  0  0  0  2  1  0  0  0  1  0  1  1  0  0  1  0]\n",
      " [ 0  0  2  2 11  5  5  2  2  0 10  4  0  9  1  2  5  0]\n",
      " [ 1  0  3  0  0  1  0  0  2  0  0  1  0  2  0  0  2  0]\n",
      " [ 2  1  7  4 10 15  9  2  8  2  6  2  5  6  2  0 10  6]\n",
      " [ 2  1  0  1  5  6  1  0  1  1  2  0  0  0  2  0  5  0]\n",
      " [ 2  0  4  0  0  2  2  1  2  1  1  2  0  3  0  0  2  0]\n",
      " [ 1  0  4  1  5  5  7  0  5  0 10  1  5  3  1  0  8  2]\n",
      " [ 0  2  1  0  0  3  2  0  1  0  0  0  0  2  0  0  4  1]\n",
      " [ 0  0  1  0  1  1  1  0  0  1  3  0  0  3  0  0  1  0]\n",
      " [ 1  0 12  2 12 10 11  1  6  0  9  2  4 13  0  2  9  0]\n",
      " [ 0  0  0  0  2  2  0  0  2  0  3  0  0  0  0  0  0  0]]\n",
      "TRAIN METRICS:\n",
      "Accuracy: 0.09145021645021645\n",
      "Precision: 0.09139227552018013\n",
      "Recall: 0.09145021645021645\n",
      "F1-Score: 0.09135676156902006\n",
      "Confusion Matrix:\n",
      "[[ 2  0  3  2 11  3  3  0  5  3  4  2  2  1  1  1  7  1]\n",
      " [ 0  0  2  1  2  4  3  2  1  0  4  1  3  1  0  0  7  0]\n",
      " [ 3  1  6  3 20 22  7  2 14  1 20  4  2 10  1  1 12  2]\n",
      " [ 1  1  6  4  7  6  7  0  4  2  8  2  5  4  2  1  7  3]\n",
      " [ 2  1 15  2 15 33  6  1 16  2 27  9  7 20  5  4 19  2]\n",
      " [ 7  2 18  5 32 41 28  2 14  4 37  9 11 12  6  6 21  5]\n",
      " [ 3  4 11  6  9 29 14  0  9  4 17  7  7  9  1  0 16  2]\n",
      " [ 0  0  3  1  3  3  1  0  3  1  0  0  0  0  1  0  2  0]\n",
      " [ 5  2  9  3  8 23 13  3 14  2 15  4  5 10  0  1 21  3]\n",
      " [ 1  2  3  0  1  3  2  0  2  0  1  0  2  3  0  0  7  1]\n",
      " [ 5  0 18 11 31 23 20  5  9  4 32 15  3 22  7  2 20  0]\n",
      " [ 4  0  4  1  4  8  6  1  7  1  7  2  2  6  1  0 10  0]\n",
      " [ 1  2  0  2  6  8  6  0  4  0  5  0  1  7  1  1  7  1]\n",
      " [ 3  1 11  7 17 15  8  3  7  3 23  2  2 10  1  1 17  4]\n",
      " [ 0  0  1  2  4  7  3  0  4  0  5  2  1  3  0  1  3  1]\n",
      " [ 2  1  2  0  1  4  1  0  2  0  3  3  0  2  0  0  6  0]\n",
      " [ 4  2 17 10 20 27 24  0 16  6 23 14  6 14  6  2 27  2]\n",
      " [ 0  1  0  0  1  3  2  0  0  0  3  2  1  2  1  0  5  1]]\n"
     ]
    }
   ],
   "source": [
    "import pandas as pd\n",
    "import numpy as np\n",
    "from sklearn.dummy import DummyClassifier\n",
    "from sklearn.metrics import accuracy_score, precision_score, recall_score, f1_score, confusion_matrix\n",
    "import os\n",
    "\n",
    "X_train = pd.read_csv(\"../data/splitted_category/X_train.csv\")\n",
    "X_test = pd.read_csv(\"../data/splitted_category/X_test.csv\")\n",
    "y_train = pd.read_csv(\"../data/splitted_category/y_train.csv\").values.ravel()\n",
    "y_test = pd.read_csv(\"../data/splitted_category/y_test.csv\").values.ravel()\n",
    "\n",
    "dummy = DummyClassifier(strategy='stratified', random_state=42)\n",
    "dummy.fit(X_train, y_train)\n",
    "\n",
    "\n",
    "\n",
    "y_pred = dummy.predict(X_test)\n",
    "\n",
    "accuracy = accuracy_score(y_test, y_pred)\n",
    "precision = precision_score(y_test, y_pred, average='weighted')\n",
    "recall = recall_score(y_test, y_pred, average='weighted')\n",
    "f1 = f1_score(y_test, y_pred, average='weighted')\n",
    "cm = confusion_matrix(y_test, y_pred)\n",
    "\n",
    "print(\"TEST METRICS:\")\n",
    "\n",
    "print(f\"Accuracy: {accuracy:.4f}\")\n",
    "print(f\"Precision: {precision:.4f}\")\n",
    "print(f\"Recall: {recall:.4f}\")\n",
    "print(f\"F1-Score: {f1:.4f}\")\n",
    "print(\"Confusion Matrix:\")\n",
    "print(cm)\n",
    "\n",
    "y_pred_train = dummy.predict(X_train)\n",
    "\n",
    "print(\"TRAIN METRICS:\")\n",
    "print(\"Accuracy:\", accuracy_score(y_train, y_pred_train))\n",
    "print(\"Precision:\", precision_score(y_train, y_pred_train, average='weighted'))\n",
    "print(\"Recall:\", recall_score(y_train, y_pred_train, average='weighted'))\n",
    "print(\"F1-Score:\", f1_score(y_train, y_pred_train, average='weighted'))\n",
    "print(\"Confusion Matrix:\")\n",
    "print(confusion_matrix(y_train, y_pred_train))"
   ]
  },
  {
   "cell_type": "code",
   "execution_count": 8,
   "id": "bd634226",
   "metadata": {},
   "outputs": [],
   "source": [
    "import os\n",
    "\n",
    "os.makedirs(\"../results/classification_category/baseline\", exist_ok=True)\n",
    "\n",
    "with open(\"../results/classification_category/baseline/baseline_category.txt\", \"w\") as f:\n",
    "    f.write(f\"Accuracy: {accuracy:.4f}\\n\")\n",
    "    f.write(f\"Precision: {precision:.4f}\\n\")\n",
    "    f.write(f\"Recall: {recall:.4f}\\n\")\n",
    "    f.write(f\"F1-Score: {f1:.4f}\\n\")\n",
    "    f.write(\"Confusion Matrix:\\n\")\n",
    "    f.write(str(cm))"
   ]
  }
 ],
 "metadata": {
  "kernelspec": {
   "display_name": ".venv",
   "language": "python",
   "name": "python3"
  },
  "language_info": {
   "codemirror_mode": {
    "name": "ipython",
    "version": 3
   },
   "file_extension": ".py",
   "mimetype": "text/x-python",
   "name": "python",
   "nbconvert_exporter": "python",
   "pygments_lexer": "ipython3",
   "version": "3.10.0"
  }
 },
 "nbformat": 4,
 "nbformat_minor": 5
}
