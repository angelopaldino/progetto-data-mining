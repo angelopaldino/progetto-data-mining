{
 "cells": [
  {
   "cell_type": "markdown",
   "id": "fd4ed44c",
   "metadata": {},
   "source": [
    "# Baseline di confronto "
   ]
  },
  {
   "cell_type": "code",
   "execution_count": 1,
   "id": "801f929d",
   "metadata": {},
   "outputs": [
    {
     "name": "stdout",
     "output_type": "stream",
     "text": [
      "TEST METRICS:\n",
      "Accuracy: 0.1894\n",
      "Precision: 0.1875\n",
      "Recall: 0.1894\n",
      "F1-Score: 0.1881\n",
      "Confusion Matrix:\n",
      "[[ 7  3  3 17 16 14 11]\n",
      " [ 5  4  6 10 10 13  8]\n",
      " [ 3  0  0  8  5  8  6]\n",
      " [14  9  8 49 31 33 25]\n",
      " [14 11  5 48 37 25 24]\n",
      " [12 15  5 36 31 33 35]\n",
      " [18 12  2 24 29 30 20]]\n",
      "TRAIN METRICS:\n",
      "Accuracy: 0.170995670995671\n",
      "Precision: 0.16981136178764222\n",
      "Recall: 0.170995670995671\n",
      "F1-Score: 0.1703615896174178\n",
      "Confusion Matrix:\n",
      "[[14 10  4 36 35 34 33]\n",
      " [ 7  8  3 38 23 31 21]\n",
      " [10  5  2 16 13 13 11]\n",
      " [44 22 13 82 82 78 75]\n",
      " [33 31 15 83 81 73 66]\n",
      " [35 18 14 91 84 82 65]\n",
      " [33 21 10 61 67 75 47]]\n"
     ]
    }
   ],
   "source": [
    "import pandas as pd\n",
    "import numpy as np\n",
    "from sklearn.dummy import DummyClassifier\n",
    "from sklearn.metrics import accuracy_score, precision_score, recall_score, f1_score, confusion_matrix\n",
    "import os\n",
    "\n",
    "X_train = pd.read_csv(\"../data/splitted_category/X_train.csv\")\n",
    "X_test = pd.read_csv(\"../data/splitted_category/X_test.csv\")\n",
    "y_train = pd.read_csv(\"../data/splitted_category/y_train.csv\").values.ravel()\n",
    "y_test = pd.read_csv(\"../data/splitted_category/y_test.csv\").values.ravel()\n",
    "\n",
    "dummy = DummyClassifier(strategy='stratified', random_state=42)\n",
    "dummy.fit(X_train, y_train)\n",
    "\n",
    "\n",
    "\n",
    "y_pred = dummy.predict(X_test)\n",
    "\n",
    "accuracy = accuracy_score(y_test, y_pred)\n",
    "precision = precision_score(y_test, y_pred, average='weighted')\n",
    "recall = recall_score(y_test, y_pred, average='weighted')\n",
    "f1 = f1_score(y_test, y_pred, average='weighted')\n",
    "cm = confusion_matrix(y_test, y_pred)\n",
    "\n",
    "print(\"TEST METRICS:\")\n",
    "\n",
    "print(f\"Accuracy: {accuracy:.4f}\")\n",
    "print(f\"Precision: {precision:.4f}\")\n",
    "print(f\"Recall: {recall:.4f}\")\n",
    "print(f\"F1-Score: {f1:.4f}\")\n",
    "print(\"Confusion Matrix:\")\n",
    "print(cm)\n",
    "\n",
    "y_pred_train = dummy.predict(X_train)\n",
    "\n",
    "print(\"TRAIN METRICS:\")\n",
    "print(\"Accuracy:\", accuracy_score(y_train, y_pred_train))\n",
    "print(\"Precision:\", precision_score(y_train, y_pred_train, average='weighted'))\n",
    "print(\"Recall:\", recall_score(y_train, y_pred_train, average='weighted'))\n",
    "print(\"F1-Score:\", f1_score(y_train, y_pred_train, average='weighted'))\n",
    "print(\"Confusion Matrix:\")\n",
    "print(confusion_matrix(y_train, y_pred_train))"
   ]
  },
  {
   "cell_type": "code",
   "execution_count": 2,
   "id": "bd634226",
   "metadata": {},
   "outputs": [],
   "source": [
    "import os\n",
    "\n",
    "os.makedirs(\"../results/classification_category/baseline\", exist_ok=True)\n",
    "\n",
    "with open(\"../results/classification_category/baseline/baseline_category.txt\", \"w\") as f:\n",
    "    f.write(f\"Accuracy: {accuracy:.4f}\\n\")\n",
    "    f.write(f\"Precision: {precision:.4f}\\n\")\n",
    "    f.write(f\"Recall: {recall:.4f}\\n\")\n",
    "    f.write(f\"F1-Score: {f1:.4f}\\n\")\n",
    "    f.write(\"Confusion Matrix:\\n\")\n",
    "    f.write(str(cm))"
   ]
  }
 ],
 "metadata": {
  "kernelspec": {
   "display_name": ".venv",
   "language": "python",
   "name": "python3"
  },
  "language_info": {
   "codemirror_mode": {
    "name": "ipython",
    "version": 3
   },
   "file_extension": ".py",
   "mimetype": "text/x-python",
   "name": "python",
   "nbconvert_exporter": "python",
   "pygments_lexer": "ipython3",
   "version": "3.10.0"
  }
 },
 "nbformat": 4,
 "nbformat_minor": 5
}
